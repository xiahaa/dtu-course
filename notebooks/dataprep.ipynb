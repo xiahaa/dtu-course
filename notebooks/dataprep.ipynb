{
 "cells": [
  {
   "cell_type": "code",
   "execution_count": 1,
   "metadata": {},
   "outputs": [],
   "source": [
    "from PIL import Image\n",
    "import os\n",
    "import os.path\n",
    "import numpy as np\n",
    "import scipy.io as sio\n",
    "import matplotlib.pyplot as plt\n",
    "from tqdm import tqdm_notebook as tqdm"
   ]
  },
  {
   "cell_type": "code",
   "execution_count": 2,
   "metadata": {},
   "outputs": [],
   "source": [
    "data_path = './data/train'\n",
    "# reading(loading) mat file as array\n",
    "loaded_mat = sio.loadmat(os.path.join(data_path, 'digitStruct.mat'))"
   ]
  },
  {
   "cell_type": "code",
   "execution_count": 3,
   "metadata": {},
   "outputs": [],
   "source": [
    "#print(loaded_mat)"
   ]
  },
  {
   "cell_type": "code",
   "execution_count": 4,
   "metadata": {},
   "outputs": [],
   "source": [
    "#print(loaded_mat['digitStruct'])"
   ]
  },
  {
   "cell_type": "code",
   "execution_count": 5,
   "metadata": {},
   "outputs": [
    {
     "name": "stdout",
     "output_type": "stream",
     "text": [
      "[[array(['1.png'], dtype='<U5') array(['2.png'], dtype='<U5')\n",
      "  array(['3.png'], dtype='<U5') ... array(['33400.png'], dtype='<U9')\n",
      "  array(['33401.png'], dtype='<U9') array(['33402.png'], dtype='<U9')]]\n"
     ]
    }
   ],
   "source": [
    "bb=loaded_mat['digitStruct']\n",
    "print(bb['name'])"
   ]
  },
  {
   "cell_type": "code",
   "execution_count": 6,
   "metadata": {},
   "outputs": [
    {
     "name": "stdout",
     "output_type": "stream",
     "text": [
      "(1, 33402)\n",
      "(1, 33402)\n"
     ]
    }
   ],
   "source": [
    "filename=bb['name']\n",
    "bbox=bb['bbox']\n",
    "print(filename.shape)\n",
    "print(bbox.shape)"
   ]
  },
  {
   "cell_type": "code",
   "execution_count": 7,
   "metadata": {},
   "outputs": [
    {
     "name": "stdout",
     "output_type": "stream",
     "text": [
      "(1, 2)\n",
      "1.png\n"
     ]
    }
   ],
   "source": [
    "print(bbox[0,0].shape)\n",
    "print(str(filename[0,0].astype(str).squeeze()))"
   ]
  },
  {
   "cell_type": "code",
   "execution_count": 8,
   "metadata": {},
   "outputs": [
    {
     "data": {
      "application/vnd.jupyter.widget-view+json": {
       "model_id": "0649bc517c724b7aa03abc31d5b99905",
       "version_major": 2,
       "version_minor": 0
      },
      "text/plain": [
       "HBox(children=(IntProgress(value=0, max=33402), HTML(value='')))"
      ]
     },
     "metadata": {},
     "output_type": "display_data"
    },
    {
     "name": "stdout",
     "output_type": "stream",
     "text": [
      "\n",
      "68736\n"
     ]
    }
   ],
   "source": [
    "sliding_window_size = (32,32)\n",
    "stride = (16,16)\n",
    "\n",
    "def intersection(box, bb):\n",
    "    mask1 = (bb[:,1] <= box[0]) & ((bb[:,1]+bb[:,3]) < (box[0])) & \\\n",
    "            (bb[:,2] <= box[1]) & ((bb[:,2]+bb[:,0]) < (box[1]))\n",
    "    mask2 = (bb[:,1] <= (box[0]+box[2])) & ((bb[:,1]+bb[:,3]) < (box[0]+box[2])) & \\\n",
    "            (bb[:,2] <= (box[1]+box[3])) & ((bb[:,2]+bb[:,0]) < (box[1]+box[3]))\n",
    "    res = mask1.sum() + mask2.sum()\n",
    "    return res != 0\n",
    "        \n",
    "total = 0\n",
    "output_path = './data/not_digit'\n",
    "for i in tqdm(range(filename.shape[1])):\n",
    "    image = Image.open(os.path.join(data_path,str(filename[0,i].astype(str).squeeze())))\n",
    "    bbs = bbox[0,i]\n",
    "    bbnp = []\n",
    "    for bb in bbs:\n",
    "        for height,left,top,width,label in bb:\n",
    "            bbnp.append([height[0,0].astype(int).squeeze(),left[0,0].astype(int).squeeze(),\\\n",
    "                         top[0,0].astype(int).squeeze(),width[0,0].astype(int).squeeze(),\\\n",
    "                         label[0,0].astype(int).squeeze()])\n",
    "    bbnp = np.array(bbnp)\n",
    "    #print(bbnp)\n",
    "    j = 0\n",
    "    k = 0\n",
    "    \n",
    "    W,H = image.size\n",
    "    \n",
    "    while (j + sliding_window_size[0]) < W:\n",
    "        while (k + sliding_window_size[1]) < H:\n",
    "            box = (j,k,j+sliding_window_size[0],k+sliding_window_size[1])  \n",
    "            if intersection(box, bbnp) == False:\n",
    "                region = image.crop(box)\n",
    "                outfile = os.path.join(output_path,str(total).zfill(8)+'.png')\n",
    "#                 print(outfile)\n",
    "                region.save(outfile)\n",
    "                total+=1\n",
    "                #plt.figure()\n",
    "                #plt.imshow(region)\n",
    "            k = k + stride[1]\n",
    "        j = j + stride[0]\n",
    "    #print(str(filename[0,i].astype(str).squeeze()))\n",
    "print(total)"
   ]
  },
  {
   "cell_type": "code",
   "execution_count": 9,
   "metadata": {},
   "outputs": [
    {
     "data": {
      "text/plain": [
       "'0001/ss'"
      ]
     },
     "execution_count": 9,
     "metadata": {},
     "output_type": "execute_result"
    }
   ],
   "source": [
    "a = 1\n",
    "b=str(a).zfill(4)\n",
    "c = str((a))\n",
    "os.path.join(b,'ss')"
   ]
  },
  {
   "cell_type": "code",
   "execution_count": null,
   "metadata": {},
   "outputs": [],
   "source": []
  }
 ],
 "metadata": {
  "kernelspec": {
   "display_name": "Python 3",
   "language": "python",
   "name": "python3"
  },
  "language_info": {
   "codemirror_mode": {
    "name": "ipython",
    "version": 3
   },
   "file_extension": ".py",
   "mimetype": "text/x-python",
   "name": "python",
   "nbconvert_exporter": "python",
   "pygments_lexer": "ipython3",
   "version": "3.7.1"
  }
 },
 "nbformat": 4,
 "nbformat_minor": 2
}
