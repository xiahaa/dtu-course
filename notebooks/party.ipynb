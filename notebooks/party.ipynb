{
 "cells": [
  {
   "cell_type": "code",
   "execution_count": 1,
   "metadata": {},
   "outputs": [],
   "source": [
    "%matplotlib inline\n",
    "import os\n",
    "import numpy as np\n",
    "import glob\n",
    "import PIL.Image as Image\n",
    "from tqdm import tqdm_notebook as tqdm\n",
    "import torch\n",
    "import torch.nn as nn\n",
    "import torch.nn.functional as F\n",
    "import torchvision.datasets as datasets\n",
    "import torchvision\n",
    "from torch.utils.data import DataLoader\n",
    "import torchvision.transforms as transforms\n",
    "from torch.utils.data.sampler import SubsetRandomSampler\n",
    "import matplotlib.pyplot as plt\n",
    "# load pretrained model\n",
    "from torchvision import models\n",
    "# for plotting\n",
    "import random\n",
    "import matplotlib.patches as patches\n",
    "from matplotlib.ticker import NullLocator"
   ]
  },
  {
   "cell_type": "markdown",
   "metadata": {},
   "source": [
    "## download built-in svhn data"
   ]
  },
  {
   "cell_type": "code",
   "execution_count": 12,
   "metadata": {},
   "outputs": [],
   "source": [
    "# download if necessary\n",
    "if not os.path.isfile('./data/train_32x32.mat'):\n",
    "    # use as digital training set\n",
    "    svhn_train_set = datasets.SVHN('./data',split='train',download=True, transform=transforms.ToTensor())\n",
    "if not os.path.isfile('./data/test_32x32.mat'):\n",
    "    # use as digital testing set\n",
    "    svhn_test_set = datasets.SVHN('./data',split='test',download=True, transform=transforms.ToTensor())\n",
    "if not os.path.isdir('./data/cifar-10-batches-py'):\n",
    "    # use as non-digital training set\n",
    "    cifar10_train_set = datasets.CIFAR10('./data',train=True,download=True,transform=transforms.ToTensor())\n",
    "    # use as non-digital testing set\n",
    "    cifar10_test_set = datasets.CIFAR10('./data',train=False,download=True,transform=transforms.ToTensor())\n",
    "# # print dataset information\n",
    "# print(\"svhn train:%d, svhn test:%d, cifar train:%d, cifar test:%d\"%(len(svhn_train_set),\n",
    "#                                                                     len(svhn_test_set),\n",
    "#                                                                     len(cifar10_train_set),\n",
    "#                                                                     len(cifar10_test_set)))\n",
    "\n",
    "###############################\n",
    "# dataset class\n",
    "###############################\n",
    "# combine train and test together\n",
    "class PartySet(torch.utils.data.Dataset):\n",
    "    def __init__(self, train, transform, data_path='./data'):\n",
    "        'Initialization'\n",
    "        self.transform = transform\n",
    "        # load svhn\n",
    "        self.svhn = datasets.SVHN(data_path,\n",
    "                                  split='train' if train else 'test', \n",
    "                                  transform=transforms.ToTensor())\n",
    "\n",
    "#         self.cifar = datasets.CIFAR10(data_path,\n",
    "#                                       train = train,\n",
    "#                                       transform=transforms.ToTensor())\n",
    "#         # compute length\n",
    "#         self.l = len(self.svhn) + len(self.cifar)\n",
    "        \n",
    "        data_path = os.path.join(data_path, 'not_digit', 'train' if train else 'test')\n",
    "        self.image_paths = glob.glob(data_path + '/*.png')\n",
    "#         compute length\n",
    "        self.l = len(self.svhn) + len(self.image_paths) #\n",
    "        \n",
    "    def __len__(self):\n",
    "        'Returns the total number of samples'\n",
    "        return self.l\n",
    "\n",
    "    def __getitem__(self, idx):\n",
    "        'Generates one sample of data'\n",
    "        if idx >= len(self.svhn):\n",
    "            # load cifar part\n",
    "            nidx = idx - len(self.svhn)\n",
    "#             X = self.cifar.data[nidx]\n",
    "#             y = 10 # new class, not digital\n",
    "#             #self.cifar.targets[nidx]\n",
    "#             X = Image.fromarray(X)\n",
    "            \n",
    "            # use self-cropped imgs\n",
    "            image_path = self.image_paths[nidx]\n",
    "            image = Image.open(image_path)\n",
    "            y = 10 # new class not digital\n",
    "            X = image\n",
    "        else:\n",
    "            # load svhn part\n",
    "            X = self.svhn.data[idx]\n",
    "            y = self.svhn.labels[idx]\n",
    "            y = (y) if y < 10 else 0\n",
    "            X = Image.fromarray(np.transpose(X, (1, 2, 0)))\n",
    "        if self.transform is not None:\n",
    "            X = self.transform(X)\n",
    "            \n",
    "        return X, y"
   ]
  },
  {
   "cell_type": "code",
   "execution_count": 13,
   "metadata": {},
   "outputs": [],
   "source": [
    "trainset = PartySet(train=True, transform=transforms.ToTensor())"
   ]
  },
  {
   "cell_type": "code",
   "execution_count": 16,
   "metadata": {},
   "outputs": [
    {
     "name": "stdout",
     "output_type": "stream",
     "text": [
      "39406\n"
     ]
    }
   ],
   "source": [
    "###############################\n",
    "# mean, std: too slow, do once\n",
    "###############################\n",
    "# imgs_tensor = torch.stack([data[0] for idx, data in tqdm(enumerate(trainset),total=len(trainset))],dim=3)\n",
    "# imgs_tensor = imgs_tensor.view(3,-1)\n",
    "# mean = imgs_tensor.mean(dim=1)\n",
    "# std = imgs_tensor.std(dim=1)\n",
    "# print('mean:%s, std:%s'%(mean,std))\n",
    "#### for cifar\n",
    "# mean = [0.4597, 0.4595, 0.4623]\n",
    "# std = [0.2208, 0.2200, 0.2258]\n",
    "\n",
    "#### for cropped \n",
    "mean=[0.4378, 0.4394, 0.4583]\n",
    "std =[0.2005, 0.2039, 0.2029]\n",
    "\n",
    "# consider data augmentation if necessary\n",
    "new_transform = transforms.Compose([\n",
    "                                    transforms.ToTensor(),\n",
    "                                    transforms.Normalize(mean,std)])\n",
    "\n",
    "trainset.transform = new_transform\n",
    "\n",
    "testset = PartySet(train=False, transform=new_transform)\n",
    "print(len(testset))\n",
    "\n",
    "## data loader\n",
    "batch_size = 128\n",
    "train_loader = DataLoader(trainset, batch_size=batch_size, shuffle=True, num_workers=3)\n",
    "test_loader = DataLoader(testset, batch_size=batch_size, shuffle=False, num_workers=3)"
   ]
  },
  {
   "cell_type": "markdown",
   "metadata": {},
   "source": [
    "## Visulization some data"
   ]
  },
  {
   "cell_type": "code",
   "execution_count": 17,
   "metadata": {},
   "outputs": [
    {
     "name": "stdout",
     "output_type": "stream",
     "text": [
      "torch.Size([128])\n"
     ]
    },
    {
     "name": "stderr",
     "output_type": "stream",
     "text": [
      "Clipping input data to the valid range for imshow with RGB data ([0..1] for floats or [0..255] for integers).\n",
      "Clipping input data to the valid range for imshow with RGB data ([0..1] for floats or [0..255] for integers).\n"
     ]
    },
    {
     "data": {
      "image/png": "[encoded data removed]",
      "text/plain": [
       "<Figure size 1080x720 with 64 Axes>"
      ]
     },
     "metadata": {
      "needs_background": "light"
     },
     "output_type": "display_data"
    }
   ],
   "source": [
    "images, labels = next(iter(train_loader))\n",
    "print(labels.shape)\n",
    "plt.figure(figsize=(15,10))\n",
    "\n",
    "label_name = ['0','1','2','3','4','5','6','7','8','9','Not Digital']\n",
    "\n",
    "for i in range(64):\n",
    "    plt.subplot(8,8,i+1)\n",
    "    img = np.swapaxes(np.swapaxes(images[i].numpy(), 0, 2), 0, 1)\n",
    "    img = img*std+mean\n",
    "    plt.imshow(img)\n",
    "    plt.title(label_name[labels[i].item()])\n",
    "    plt.axis('off')\n",
    "plt.savefig('../figures/party-2.png', dpi=300)"
   ]
  },
  {
   "cell_type": "markdown",
   "metadata": {},
   "source": [
    "## Task-1: train a CNN for digits classification\n",
    "TODO:\n",
    "1. use a self-defined simple network\n",
    "2. use pretrained lightweight network"
   ]
  },
  {
   "cell_type": "code",
   "execution_count": 39,
   "metadata": {},
   "outputs": [],
   "source": [
    "class Network(nn.Module):\n",
    "    '''\n",
    "    the first net is inspired by VGG-16.\n",
    "    '''\n",
    "    def __init__(self):\n",
    "        super(Network, self).__init__()\n",
    "        #...\n",
    "        self.features = nn.Sequential(\n",
    "            ## input is 3x32x32\n",
    "            # layer-1, 32x3x28x28\n",
    "            nn.Conv2d(3,64,3,stride=1,padding=0),\n",
    "            nn.ReLU(),\n",
    "            nn.BatchNorm2d(64),\n",
    "            # layer-2, 16x32x28x28\n",
    "            nn.Conv2d(64,128,3,stride=1,padding=0),\n",
    "            nn.ReLU(),\n",
    "            nn.BatchNorm2d(128),\n",
    "            # pooling, 16x14x14\n",
    "            nn.MaxPool2d(2,stride=2),\n",
    "            # layer-3, 32x16x10x10\n",
    "            nn.Conv2d(128,256,3,stride=1,padding=0),\n",
    "            nn.ReLU(),\n",
    "            nn.BatchNorm2d(256),\n",
    "            # layer-4, 16x32x10x10\n",
    "            nn.Conv2d(256,16,3,stride=1,padding=0),\n",
    "            nn.ReLU(),\n",
    "            nn.BatchNorm2d(16),\n",
    "            # pooling, 16x5x5\n",
    "            nn.MaxPool2d(2,stride=2),\n",
    "            # 1024x1x1\n",
    "            nn.Conv2d(16,1024,5,stride=1,padding=0),\n",
    "            nn.ReLU(),\n",
    "            nn.Dropout(p=0.5),\n",
    "            nn.Conv2d(1024,1024,1,stride=1,padding=0),\n",
    "            nn.ReLU(),\n",
    "            nn.Dropout(p=0.5),\n",
    "            # 11x1x1\n",
    "            nn.Conv2d(1024,11,1,stride=1,padding=0)\n",
    "        )\n",
    "\n",
    "    def forward(self, x):\n",
    "        # ...\n",
    "        out = self.features(x)\n",
    "        #out = F.softmax(out,dim=0)\n",
    "        out = out.view(out.size(0), -1)\n",
    "        return out"
   ]
  },
  {
   "cell_type": "markdown",
   "metadata": {},
   "source": [
    "## define model and move to deive"
   ]
  },
  {
   "cell_type": "code",
   "execution_count": 40,
   "metadata": {},
   "outputs": [
    {
     "name": "stdout",
     "output_type": "stream",
     "text": [
      "torch.Size([64, 3, 3, 3])\n",
      "torch.Size([64])\n",
      "torch.Size([64])\n",
      "torch.Size([64])\n",
      "torch.Size([128, 64, 3, 3])\n",
      "torch.Size([128])\n",
      "torch.Size([128])\n",
      "torch.Size([128])\n",
      "torch.Size([256, 128, 3, 3])\n",
      "torch.Size([256])\n",
      "torch.Size([256])\n",
      "torch.Size([256])\n",
      "torch.Size([16, 256, 3, 3])\n",
      "torch.Size([16])\n",
      "torch.Size([16])\n",
      "torch.Size([16])\n",
      "torch.Size([1024, 16, 5, 5])\n",
      "torch.Size([1024])\n",
      "torch.Size([1024, 1024, 1, 1])\n",
      "torch.Size([1024])\n",
      "torch.Size([11, 1024, 1, 1])\n",
      "torch.Size([11])\n",
      "The code will run on GPU. This is important so things run faster.\n"
     ]
    },
    {
     "data": {
      "text/plain": [
       "Network(\n",
       "  (features): Sequential(\n",
       "    (0): Conv2d(3, 64, kernel_size=(3, 3), stride=(1, 1))\n",
       "    (1): ReLU()\n",
       "    (2): BatchNorm2d(64, eps=1e-05, momentum=0.1, affine=True, track_running_stats=True)\n",
       "    (3): Conv2d(64, 128, kernel_size=(3, 3), stride=(1, 1))\n",
       "    (4): ReLU()\n",
       "    (5): BatchNorm2d(128, eps=1e-05, momentum=0.1, affine=True, track_running_stats=True)\n",
       "    (6): MaxPool2d(kernel_size=2, stride=2, padding=0, dilation=1, ceil_mode=False)\n",
       "    (7): Conv2d(128, 256, kernel_size=(3, 3), stride=(1, 1))\n",
       "    (8): ReLU()\n",
       "    (9): BatchNorm2d(256, eps=1e-05, momentum=0.1, affine=True, track_running_stats=True)\n",
       "    (10): Conv2d(256, 16, kernel_size=(3, 3), stride=(1, 1))\n",
       "    (11): ReLU()\n",
       "    (12): BatchNorm2d(16, eps=1e-05, momentum=0.1, affine=True, track_running_stats=True)\n",
       "    (13): MaxPool2d(kernel_size=2, stride=2, padding=0, dilation=1, ceil_mode=False)\n",
       "    (14): Conv2d(16, 1024, kernel_size=(5, 5), stride=(1, 1))\n",
       "    (15): ReLU()\n",
       "    (16): Dropout(p=0.5)\n",
       "    (17): Conv2d(1024, 1024, kernel_size=(1, 1), stride=(1, 1))\n",
       "    (18): ReLU()\n",
       "    (19): Dropout(p=0.5)\n",
       "    (20): Conv2d(1024, 11, kernel_size=(1, 1), stride=(1, 1))\n",
       "  )\n",
       ")"
      ]
     },
     "execution_count": 40,
     "metadata": {},
     "output_type": "execute_result"
    }
   ],
   "source": [
    "usePretrained = False\n",
    "if usePretrained == False:\n",
    "    model = Network()\n",
    "else:\n",
    "    pass\n",
    "\n",
    "for param in model.parameters():\n",
    "    if param.requires_grad == True:\n",
    "        print(param.shape)\n",
    "\n",
    "# check if GPU exsit\n",
    "if torch.cuda.is_available():\n",
    "    print(\"The code will run on GPU. This is important so things run faster.\")\n",
    "else:\n",
    "    print(\"The code will run on CPU. You should probably not do this.\")\n",
    "device = torch.device('cuda' if torch.cuda.is_available() else 'cpu')\n",
    "\n",
    "model.to(device)"
   ]
  },
  {
   "cell_type": "markdown",
   "metadata": {},
   "source": [
    "## initilize optimizer"
   ]
  },
  {
   "cell_type": "code",
   "execution_count": 41,
   "metadata": {},
   "outputs": [],
   "source": [
    "#Initialize the optimizer with model parameters that need to be retrained\n",
    "# optimizer = torch.optim.SGD(filter(lambda param: param.requires_grad, model.parameters()),\n",
    "#                             lr=1e-2,momentum=0.9)# fine tuning\n",
    "optimizer = torch.optim.Adam(filter(lambda param: param.requires_grad, model.parameters()),lr=1e-3)\n",
    "\n",
    "\n",
    "\n",
    "\n"
   ]
  },
  {
   "cell_type": "markdown",
   "metadata": {},
   "source": [
    "## define training process"
   ]
  },
  {
   "cell_type": "code",
   "execution_count": 42,
   "metadata": {},
   "outputs": [],
   "source": [
    "#We define the training as a function so we can easily re-use it.\n",
    "def train(model, optimizer, num_epochs=10):\n",
    "    train_acc_all = []\n",
    "    test_acc_all = []\n",
    "\n",
    "    cost = torch.nn.CrossEntropyLoss()\n",
    "    \n",
    "    for epoch in tqdm(range(num_epochs), unit='epoch'):\n",
    "        model.train()\n",
    "        #For each epoch\n",
    "        train_correct = 0\n",
    "        for minibatch_no, (data, target) in tqdm(enumerate(train_loader), total=len(train_loader)):\n",
    "            data, target = data.to(device), target.to(device)\n",
    "            #Zero the gradients computed for each weight\n",
    "            optimizer.zero_grad()\n",
    "            #Forward pass your image through the network\n",
    "            output = model(data)\n",
    "            #Compute the loss\n",
    "            #loss = F.nll_loss(torch.log(output), target)## what does nll_loss mean\n",
    "            #Use cross-entropy as cost function, it will do softmax internally\n",
    "            loss = cost(output, target)\n",
    "            \n",
    "            #Backward pass through the network\n",
    "            loss.backward()\n",
    "            #Update the weights\n",
    "            optimizer.step()\n",
    "\n",
    "            #Compute how many were correctly classified\n",
    "            predicted = output.argmax(1)\n",
    "            train_correct += (target==predicted).sum().cpu().item()\n",
    "        \n",
    "        #Comput the test accuracy\n",
    "        test_correct = 0\n",
    "        model.eval()\n",
    "        for data, target in test_loader:\n",
    "            data = data.to(device)\n",
    "            with torch.no_grad():\n",
    "                output = model(data)\n",
    "            predicted = output.argmax(1).cpu()\n",
    "            test_correct += (target==predicted).sum().item()\n",
    "        train_acc = train_correct/len(trainset)\n",
    "        test_acc = test_correct/len(testset)\n",
    "        train_acc_all.append(train_acc)\n",
    "        test_acc_all.append(test_acc)\n",
    "        print(\"Accuracy train: {train:.1f}%\\t test: {test:.1f}%\".format(test=100*test_acc, train=100*train_acc))\n",
    "    return test_acc_all, train_acc_all"
   ]
  },
  {
   "cell_type": "markdown",
   "metadata": {},
   "source": [
    "## start training"
   ]
  },
  {
   "cell_type": "code",
   "execution_count": 43,
   "metadata": {},
   "outputs": [
    {
     "data": {
      "application/vnd.jupyter.widget-view+json": {
       "model_id": "57d42458ffe04565909d2d4e7cb48066",
       "version_major": 2,
       "version_minor": 0
      },
      "text/plain": [
       "HBox(children=(IntProgress(value=0, max=20), HTML(value='')))"
      ]
     },
     "metadata": {},
     "output_type": "display_data"
    },
    {
     "data": {
      "application/vnd.jupyter.widget-view+json": {
       "model_id": "96159836f08c4c0aaeca52d56955284b",
       "version_major": 2,
       "version_minor": 0
      },
      "text/plain": [
       "HBox(children=(IntProgress(value=0, max=783), HTML(value='')))"
      ]
     },
     "metadata": {},
     "output_type": "display_data"
    },
    {
     "name": "stdout",
     "output_type": "stream",
     "text": [
      "Accuracy train: 83.9%\t test: 90.6%\n"
     ]
    },
    {
     "data": {
      "application/vnd.jupyter.widget-view+json": {
       "model_id": "88a84545679c49b9971f3447903379af",
       "version_major": 2,
       "version_minor": 0
      },
      "text/plain": [
       "HBox(children=(IntProgress(value=0, max=783), HTML(value='')))"
      ]
     },
     "metadata": {},
     "output_type": "display_data"
    },
    {
     "name": "stdout",
     "output_type": "stream",
     "text": [
      "Accuracy train: 91.6%\t test: 92.6%\n"
     ]
    },
    {
     "data": {
      "application/vnd.jupyter.widget-view+json": {
       "model_id": "c5a6bbcdca334534a4ec66ed0cdec1e0",
       "version_major": 2,
       "version_minor": 0
      },
      "text/plain": [
       "HBox(children=(IntProgress(value=0, max=783), HTML(value='')))"
      ]
     },
     "metadata": {},
     "output_type": "display_data"
    },
    {
     "name": "stdout",
     "output_type": "stream",
     "text": [
      "Accuracy train: 93.0%\t test: 94.2%\n"
     ]
    },
    {
     "data": {
      "application/vnd.jupyter.widget-view+json": {
       "model_id": "f502f3c262ba4980a03df3425e125825",
       "version_major": 2,
       "version_minor": 0
      },
      "text/plain": [
       "HBox(children=(IntProgress(value=0, max=783), HTML(value='')))"
      ]
     },
     "metadata": {},
     "output_type": "display_data"
    },
    {
     "name": "stdout",
     "output_type": "stream",
     "text": [
      "Accuracy train: 93.9%\t test: 94.7%\n"
     ]
    },
    {
     "data": {
      "application/vnd.jupyter.widget-view+json": {
       "model_id": "7e41fc0a869849828d4ce88512d701d8",
       "version_major": 2,
       "version_minor": 0
      },
      "text/plain": [
       "HBox(children=(IntProgress(value=0, max=783), HTML(value='')))"
      ]
     },
     "metadata": {},
     "output_type": "display_data"
    },
    {
     "name": "stdout",
     "output_type": "stream",
     "text": [
      "Accuracy train: 94.5%\t test: 94.3%\n"
     ]
    },
    {
     "data": {
      "application/vnd.jupyter.widget-view+json": {
       "model_id": "7e56767769cf4128b8e1e8cbf7ec2d7e",
       "version_major": 2,
       "version_minor": 0
      },
      "text/plain": [
       "HBox(children=(IntProgress(value=0, max=783), HTML(value='')))"
      ]
     },
     "metadata": {},
     "output_type": "display_data"
    },
    {
     "name": "stdout",
     "output_type": "stream",
     "text": [
      "Accuracy train: 95.0%\t test: 94.5%\n"
     ]
    },
    {
     "data": {
      "application/vnd.jupyter.widget-view+json": {
       "model_id": "7089455493ad4231b93a4f2ab597ced7",
       "version_major": 2,
       "version_minor": 0
      },
      "text/plain": [
       "HBox(children=(IntProgress(value=0, max=783), HTML(value='')))"
      ]
     },
     "metadata": {},
     "output_type": "display_data"
    },
    {
     "name": "stdout",
     "output_type": "stream",
     "text": [
      "Accuracy train: 95.5%\t test: 95.0%\n"
     ]
    },
    {
     "data": {
      "application/vnd.jupyter.widget-view+json": {
       "model_id": "3b3d7ae2e5074775ace5aabc36f9c600",
       "version_major": 2,
       "version_minor": 0
      },
      "text/plain": [
       "HBox(children=(IntProgress(value=0, max=783), HTML(value='')))"
      ]
     },
     "metadata": {},
     "output_type": "display_data"
    },
    {
     "name": "stdout",
     "output_type": "stream",
     "text": [
      "Accuracy train: 95.9%\t test: 95.2%\n"
     ]
    },
    {
     "data": {
      "application/vnd.jupyter.widget-view+json": {
       "model_id": "62c60433c097466c89436176457f0cb1",
       "version_major": 2,
       "version_minor": 0
      },
      "text/plain": [
       "HBox(children=(IntProgress(value=0, max=783), HTML(value='')))"
      ]
     },
     "metadata": {},
     "output_type": "display_data"
    },
    {
     "name": "stdout",
     "output_type": "stream",
     "text": [
      "Accuracy train: 96.2%\t test: 95.4%\n"
     ]
    },
    {
     "data": {
      "application/vnd.jupyter.widget-view+json": {
       "model_id": "a4376c72235d44f68c4b47cf1e8b4ba5",
       "version_major": 2,
       "version_minor": 0
      },
      "text/plain": [
       "HBox(children=(IntProgress(value=0, max=783), HTML(value='')))"
      ]
     },
     "metadata": {},
     "output_type": "display_data"
    },
    {
     "name": "stdout",
     "output_type": "stream",
     "text": [
      "Accuracy train: 96.5%\t test: 95.2%\n"
     ]
    },
    {
     "data": {
      "application/vnd.jupyter.widget-view+json": {
       "model_id": "aaa55d73f7374d86afd0b842ba089fce",
       "version_major": 2,
       "version_minor": 0
      },
      "text/plain": [
       "HBox(children=(IntProgress(value=0, max=783), HTML(value='')))"
      ]
     },
     "metadata": {},
     "output_type": "display_data"
    },
    {
     "name": "stdout",
     "output_type": "stream",
     "text": [
      "Accuracy train: 96.7%\t test: 95.0%\n"
     ]
    },
    {
     "data": {
      "application/vnd.jupyter.widget-view+json": {
       "model_id": "c39d24a7dc9c473f92cdebf9f42b433e",
       "version_major": 2,
       "version_minor": 0
      },
      "text/plain": [
       "HBox(children=(IntProgress(value=0, max=783), HTML(value='')))"
      ]
     },
     "metadata": {},
     "output_type": "display_data"
    },
    {
     "name": "stdout",
     "output_type": "stream",
     "text": [
      "Accuracy train: 96.9%\t test: 95.3%\n"
     ]
    },
    {
     "data": {
      "application/vnd.jupyter.widget-view+json": {
       "model_id": "6c513aa0ec2c4391bb36f6f44aec46c0",
       "version_major": 2,
       "version_minor": 0
      },
      "text/plain": [
       "HBox(children=(IntProgress(value=0, max=783), HTML(value='')))"
      ]
     },
     "metadata": {},
     "output_type": "display_data"
    },
    {
     "name": "stdout",
     "output_type": "stream",
     "text": [
      "Accuracy train: 97.2%\t test: 95.2%\n"
     ]
    },
    {
     "data": {
      "application/vnd.jupyter.widget-view+json": {
       "model_id": "d59adf385ef94be39f6bf4e12bdfb86a",
       "version_major": 2,
       "version_minor": 0
      },
      "text/plain": [
       "HBox(children=(IntProgress(value=0, max=783), HTML(value='')))"
      ]
     },
     "metadata": {},
     "output_type": "display_data"
    },
    {
     "name": "stdout",
     "output_type": "stream",
     "text": [
      "Accuracy train: 97.3%\t test: 94.9%\n"
     ]
    },
    {
     "data": {
      "application/vnd.jupyter.widget-view+json": {
       "model_id": "1ccd02481584473a941b57a158bf7397",
       "version_major": 2,
       "version_minor": 0
      },
      "text/plain": [
       "HBox(children=(IntProgress(value=0, max=783), HTML(value='')))"
      ]
     },
     "metadata": {},
     "output_type": "display_data"
    },
    {
     "name": "stdout",
     "output_type": "stream",
     "text": [
      "Accuracy train: 97.5%\t test: 94.9%\n"
     ]
    },
    {
     "data": {
      "application/vnd.jupyter.widget-view+json": {
       "model_id": "bbf712114f154bc9805a6dc98ac9d0cb",
       "version_major": 2,
       "version_minor": 0
      },
      "text/plain": [
       "HBox(children=(IntProgress(value=0, max=783), HTML(value='')))"
      ]
     },
     "metadata": {},
     "output_type": "display_data"
    },
    {
     "name": "stdout",
     "output_type": "stream",
     "text": [
      "Accuracy train: 97.6%\t test: 95.2%\n"
     ]
    },
    {
     "data": {
      "application/vnd.jupyter.widget-view+json": {
       "model_id": "4482dad696c24055a55c1c523152b2db",
       "version_major": 2,
       "version_minor": 0
      },
      "text/plain": [
       "HBox(children=(IntProgress(value=0, max=783), HTML(value='')))"
      ]
     },
     "metadata": {},
     "output_type": "display_data"
    },
    {
     "name": "stdout",
     "output_type": "stream",
     "text": [
      "Accuracy train: 97.8%\t test: 95.0%\n"
     ]
    },
    {
     "data": {
      "application/vnd.jupyter.widget-view+json": {
       "model_id": "3451e973b0f1492ba9f422f99e29588e",
       "version_major": 2,
       "version_minor": 0
      },
      "text/plain": [
       "HBox(children=(IntProgress(value=0, max=783), HTML(value='')))"
      ]
     },
     "metadata": {},
     "output_type": "display_data"
    },
    {
     "name": "stdout",
     "output_type": "stream",
     "text": [
      "Accuracy train: 97.8%\t test: 95.3%\n"
     ]
    },
    {
     "data": {
      "application/vnd.jupyter.widget-view+json": {
       "model_id": "14269b2825034c44985312f7d29b8923",
       "version_major": 2,
       "version_minor": 0
      },
      "text/plain": [
       "HBox(children=(IntProgress(value=0, max=783), HTML(value='')))"
      ]
     },
     "metadata": {},
     "output_type": "display_data"
    },
    {
     "name": "stdout",
     "output_type": "stream",
     "text": [
      "Accuracy train: 98.0%\t test: 95.0%\n"
     ]
    },
    {
     "data": {
      "application/vnd.jupyter.widget-view+json": {
       "model_id": "7d9c1e9df2374be6af8b28fb3d63a36a",
       "version_major": 2,
       "version_minor": 0
      },
      "text/plain": [
       "HBox(children=(IntProgress(value=0, max=783), HTML(value='')))"
      ]
     },
     "metadata": {},
     "output_type": "display_data"
    },
    {
     "name": "stdout",
     "output_type": "stream",
     "text": [
      "Accuracy train: 98.1%\t test: 95.1%\n"
     ]
    },
    {
     "data": {
      "text/plain": [
       "[Text(0, 0.5, 'Accuracy')]"
      ]
     },
     "execution_count": 43,
     "metadata": {},
     "output_type": "execute_result"
    },
    {
     "data": {
      "image/png": "[encoded data removed]",
      "text/plain": [
       "<Figure size 432x288 with 1 Axes>"
      ]
     },
     "metadata": {
      "needs_background": "light"
     },
     "output_type": "display_data"
    }
   ],
   "source": [
    "#optimizer = torch.optim.SGD(filter(lambda param: param.requires_grad, model.parameters()), lr=1e-2,momentum=0.9)# fine tuning\n",
    "\n",
    "test_acc, train_acc = train(model, optimizer, 20)# training\n",
    "\n",
    "fig,ax = plt.subplots()\n",
    "ax.plot(test_acc,c='#990000',alpha=0.8,linewidth=3,label='test_acc')\n",
    "ax.plot(train_acc,c='#005b99',alpha=0.8,linewidth=3,label='train_acc')\n",
    "# ...\n",
    "ax.legend(('Test error','Train eror'))\n",
    "ax.set(xlabel='Epoch number')\n",
    "ax.set(ylabel='Accuracy')\n"
   ]
  },
  {
   "cell_type": "markdown",
   "metadata": {},
   "source": [
    "## end training, save model parameters for later usage"
   ]
  },
  {
   "cell_type": "code",
   "execution_count": 44,
   "metadata": {},
   "outputs": [],
   "source": [
    "\n",
    "# save trained model for faster analysis\n",
    "checkpoint_name = './model/party-checkpoint-3.pt'\n",
    "torch.save(model.state_dict(), checkpoint_name)\n"
   ]
  },
  {
   "cell_type": "markdown",
   "metadata": {},
   "source": [
    "## load trained  parameters and start for localization"
   ]
  },
  {
   "cell_type": "code",
   "execution_count": 45,
   "metadata": {},
   "outputs": [
    {
     "data": {
      "text/plain": [
       "IncompatibleKeys(missing_keys=[], unexpected_keys=[])"
      ]
     },
     "execution_count": 45,
     "metadata": {},
     "output_type": "execute_result"
    }
   ],
   "source": [
    "checkpoint_name = './model/party-checkpoint-3.pt'\n",
    "\n",
    "# then training\n",
    "model.load_state_dict(torch.load(checkpoint_name))"
   ]
  },
  {
   "cell_type": "code",
   "execution_count": 46,
   "metadata": {},
   "outputs": [
    {
     "name": "stdout",
     "output_type": "stream",
     "text": [
      "Network(\n",
      "  (features): Sequential(\n",
      "    (0): Conv2d(3, 64, kernel_size=(3, 3), stride=(1, 1))\n",
      "    (1): ReLU()\n",
      "    (2): BatchNorm2d(64, eps=1e-05, momentum=0.1, affine=True, track_running_stats=True)\n",
      "    (3): Conv2d(64, 128, kernel_size=(3, 3), stride=(1, 1))\n",
      "    (4): ReLU()\n",
      "    (5): BatchNorm2d(128, eps=1e-05, momentum=0.1, affine=True, track_running_stats=True)\n",
      "    (6): MaxPool2d(kernel_size=2, stride=2, padding=0, dilation=1, ceil_mode=False)\n",
      "    (7): Conv2d(128, 256, kernel_size=(3, 3), stride=(1, 1))\n",
      "    (8): ReLU()\n",
      "    (9): BatchNorm2d(256, eps=1e-05, momentum=0.1, affine=True, track_running_stats=True)\n",
      "    (10): Conv2d(256, 16, kernel_size=(3, 3), stride=(1, 1))\n",
      "    (11): ReLU()\n",
      "    (12): BatchNorm2d(16, eps=1e-05, momentum=0.1, affine=True, track_running_stats=True)\n",
      "    (13): MaxPool2d(kernel_size=2, stride=2, padding=0, dilation=1, ceil_mode=False)\n",
      "    (14): Conv2d(16, 1024, kernel_size=(5, 5), stride=(1, 1))\n",
      "    (15): ReLU()\n",
      "    (16): Dropout(p=0.5)\n",
      "    (17): Conv2d(1024, 1024, kernel_size=(1, 1), stride=(1, 1))\n",
      "    (18): ReLU()\n",
      "    (19): Dropout(p=0.5)\n",
      "    (20): Conv2d(1024, 11, kernel_size=(1, 1), stride=(1, 1))\n",
      "  )\n",
      ")\n"
     ]
    }
   ],
   "source": [
    "print(model)"
   ]
  },
  {
   "cell_type": "code",
   "execution_count": 47,
   "metadata": {},
   "outputs": [
    {
     "name": "stdout",
     "output_type": "stream",
     "text": [
      "39406\n",
      "torch.Size([1945, 3, 32, 32])\n",
      "tensor([9, 9, 5,  ..., 1, 7, 2])\n",
      "tensor([ 3,  8,  8,  ..., 10, 10, 10])\n",
      "Test Accuracy:0.9506420342079887\n"
     ]
    }
   ],
   "source": [
    "# load failure images\n",
    "model.eval()\n",
    "init = False\n",
    "test_correct = 0\n",
    "for data, target in test_loader:\n",
    "    datagpu = data.to(device)\n",
    "    #print(data.shape)\n",
    "    with torch.no_grad():\n",
    "        output = model(datagpu)\n",
    "        predicted = output.argmax(1).cpu()\n",
    "        mask = target!=predicted\n",
    "        failures = data[mask]\n",
    "        failure_predict_lbs = predicted[mask]\n",
    "        failure_true_lbs = target[mask]\n",
    "        test_correct += (target==predicted).sum().cpu().item()\n",
    "        if init == False:\n",
    "            init = True\n",
    "            allfailures = failures\n",
    "            all_failure_predict_lbs = failure_predict_lbs\n",
    "            all_failure_true_lbs = failure_true_lbs\n",
    "        else:\n",
    "            allfailures = torch.cat((allfailures,failures),dim=0)\n",
    "            all_failure_predict_lbs = torch.cat((all_failure_predict_lbs,failure_predict_lbs),0)\n",
    "            all_failure_true_lbs = torch.cat((all_failure_true_lbs,failure_true_lbs),0)\n",
    "print(len(testset))\n",
    "print(allfailures.shape)\n",
    "print(all_failure_predict_lbs)\n",
    "print(all_failure_true_lbs)\n",
    "test_acc = test_correct/len(testset)\n",
    "print('Test Accuracy:%s'%test_acc)"
   ]
  },
  {
   "cell_type": "markdown",
   "metadata": {},
   "source": [
    "## Use your network with a **convolutional implementation of the sliding window** algorithm to detect bounding boxes around digits."
   ]
  },
  {
   "cell_type": "code",
   "execution_count": 48,
   "metadata": {},
   "outputs": [],
   "source": [
    "class PartyFull(torch.utils.data.Dataset):\n",
    "    def __init__(self, train, transform, data_path='/scratch/SVHN'):\n",
    "        'Initialization'\n",
    "        self.transform = transform\n",
    "        data_path = os.path.join(data_path, 'train' if train else 'test')\n",
    "        #print(data_path)\n",
    "        self.image_paths = glob.glob(data_path + '/*.png')\n",
    "        \n",
    "    def __len__(self):\n",
    "        'Returns the total number of samples'\n",
    "        return len(self.image_paths)\n",
    "\n",
    "    def __getitem__(self, idx):\n",
    "        'Generates one sample of data'\n",
    "        image_path = self.image_paths[idx]\n",
    "        \n",
    "        image = Image.open(image_path)\n",
    "        # fetch folder name as the class type\n",
    "        c = os.path.split(os.path.split(image_path)[0])[1]\n",
    "        y = 0 if c == 'test' else 1\n",
    "        #print(c)\n",
    "        X = self.transform(image)\n",
    "        return X, y"
   ]
  },
  {
   "cell_type": "code",
   "execution_count": 49,
   "metadata": {},
   "outputs": [],
   "source": [
    "def detection(res_conv, nd_label = 10, score_threshold = 0.6, stride=(4,4), sliding_win_size = (32,32)):\n",
    "    '''\n",
    "    input is the convolutional result.\n",
    "    output is the corresponding bbox.\n",
    "    '''\n",
    "    # get predicted label\n",
    "    score,target = res_conv.max(1)\n",
    "    score = score.detach()\n",
    "    # find digital\n",
    "    mask_digital = (target != nd_label) & (score >= score_threshold)\n",
    "    #print(\"target: %s, score: %s\"%(target[mask_digital],score[mask_digital]))\n",
    "     \n",
    "    # initial detection\n",
    "    init_detections = torch.nonzero(mask_digital)\n",
    "    init_detections = init_detections.numpy()\n",
    "    \n",
    "    # get coordinates\n",
    "    coords = init_detections[:,[1,2]]\n",
    "    rows = coords[:,[0]].flatten()\n",
    "    cols = coords[:,[1]].flatten()\n",
    "    #print(\"rows:%s,cols:%s\"%(rows,cols))\n",
    "    \n",
    "    # compute bb position\n",
    "    bbx = stride[0] * cols\n",
    "    bby = stride[1] * rows\n",
    "    bbw = np.full_like(bbx,sliding_win_size[0])\n",
    "    bbh = np.full_like(bby,sliding_win_size[1])\n",
    "    label = target[mask_digital].numpy()\n",
    "    score = score[mask_digital].numpy()\n",
    "    bb = np.vstack((bbx,bby,bbw,bbh,label,score)).transpose()\n",
    "    #print(bb[:,0])\n",
    "    \n",
    "    return bb"
   ]
  },
  {
   "cell_type": "code",
   "execution_count": 50,
   "metadata": {},
   "outputs": [],
   "source": [
    "\n",
    "cmap = plt.get_cmap(\"tab20\")\n",
    "colors = [cmap(i) for i in np.linspace(0, 1, 11)]\n",
    "classes_name = ['0','1','2','3','4','5','6','7','8','9','Not Digital']\n",
    "n_cls_preds = len(classes_name)\n",
    "bbox_colors = random.sample(colors, n_cls_preds)\n",
    "\n",
    "def rescale_boxes(boxes, current_dim, original_shape):\n",
    "    \"\"\" Rescales bounding boxes to the original shape \"\"\"\n",
    "    orig_h, orig_w = original_shape\n",
    "    # The amount of padding that was added\n",
    "    pad_x = max(orig_h - orig_w, 0) * (current_dim / max(original_shape))\n",
    "    pad_y = max(orig_w - orig_h, 0) * (current_dim / max(original_shape))\n",
    "    # Image height and width after padding is removed\n",
    "    unpad_h = current_dim - pad_y\n",
    "    unpad_w = current_dim - pad_x\n",
    "    # Rescale bounding boxes to dimension of original image\n",
    "    boxes[:, 0] = ((boxes[:, 0] - pad_x // 2) / unpad_w) * orig_w\n",
    "    boxes[:, 1] = ((boxes[:, 1] - pad_y // 2) / unpad_h) * orig_h\n",
    "    boxes[:, 2] = ((boxes[:, 2] - pad_x // 2) / unpad_w) * orig_w\n",
    "    boxes[:, 3] = ((boxes[:, 3] - pad_y // 2) / unpad_h) * orig_h\n",
    "    return boxes\n",
    "\n",
    "\n",
    "def plotbbox(detections,img_size,original_img_size,ax):\n",
    "    # Draw bounding boxes and labels of detections\n",
    "    if detections is not None:\n",
    "        # Rescale boxes to original image\n",
    "        #detections = rescale_boxes(detections, img_size, original_img_size)\n",
    "        # random sampling from color map\n",
    "        \n",
    "        for bbx, bby, bbw, bbh, cls_pred, cls_conf in detections:\n",
    "            print(\"\\t+ Label: %s, Conf: %.5f\" % (classes_name[int(cls_pred)], cls_conf))\n",
    "            color = bbox_colors[int(cls_pred)]\n",
    "            # Create a Rectangle patch\n",
    "            bbox = patches.Rectangle((bbx, bby), bbw, bbh, linewidth=2, edgecolor=color, facecolor=\"none\")\n",
    "            # Add the bbox to the plot\n",
    "            ax.add_patch(bbox)\n",
    "            # Add label\n",
    "            plt.text(\n",
    "                bbx,\n",
    "                bby,\n",
    "                s=classes_name[int(cls_pred)],\n",
    "                color=\"white\",\n",
    "                verticalalignment=\"top\",\n",
    "                bbox={\"color\": color, \"pad\": 0},\n",
    "            )\n",
    "    return"
   ]
  },
  {
   "cell_type": "code",
   "execution_count": 51,
   "metadata": {},
   "outputs": [],
   "source": [
    "def IoU(detection1, detection2):\n",
    "    area1 = detection1[2]*detection1[3]\n",
    "    area2 = detection2[2]*detection2[3]\n",
    "    # intersection\n",
    "    sx = np.max([detection1[0],detection2[0]])\n",
    "    sy = np.max([detection1[1],detection2[1]])\n",
    "    ex = np.min([detection1[0]+detection1[2],detection2[0]+detection2[2]])\n",
    "    ey = np.min([detection1[1]+detection1[3],detection2[1]+detection2[3]])\n",
    "#     print(detection1)\n",
    "#     print(detection2)\n",
    "#     print('sx:%s,sy:%s,ex:%s,ey:%s'%(sx,sy,ex,ey))\n",
    "    area_intersected = (ex-sx)*(ey-sy)\n",
    "    # union\n",
    "    area_union = area1 + area2 - area_intersected\n",
    "    return (area_intersected/area_union)\n",
    "\n",
    "# test1 = [10,10,100,100]\n",
    "# test2 = [102,102,50,100]\n",
    "# print(IoU(test2,test1))"
   ]
  },
  {
   "cell_type": "code",
   "execution_count": 52,
   "metadata": {},
   "outputs": [],
   "source": [
    "def nms_bbox(detections, classes, threshold = 0.5):\n",
    "    '''\n",
    "    Apply Non-Maximum Suppression\n",
    "    '''\n",
    "    maximum = []\n",
    "    indices = np.arange(detections.shape[0],dtype=int)\n",
    "    for i in range(len(classes)):\n",
    "        label = classes[i]\n",
    "        mask = detections[:,4] == label\n",
    "        indices_of_label = indices[mask]\n",
    "#         print(indices_of_label.shape)\n",
    "        while len(indices_of_label) > 0:\n",
    "            # find the one with lagest score\n",
    "            maxid = np.argmax(detections[indices_of_label,5])\n",
    "            # output\n",
    "            id1 = indices_of_label[maxid]\n",
    "            maximum.append(id1)\n",
    "            # \n",
    "            remove_id = np.ones(len(indices_of_label),dtype=int)\n",
    "            for j in range(len(indices_of_label)):\n",
    "                iou = IoU(detections[indices_of_label[j],:], detections[id1,:])\n",
    "#                 print('i:%s, iou:%s'%(i,iou))\n",
    "                if iou < threshold:\n",
    "                    # keep\n",
    "                    remove_id[j] = 0\n",
    "            indices_of_label = indices_of_label[remove_id == 0]\n",
    "        \n",
    "#     visited = np.zeros(detections.shape[0])\n",
    "#     for i in range(detections.shape[0]):\n",
    "#         if visited[i] != 0:\n",
    "#             continue\n",
    "#         # not yet visited\n",
    "#         visited[i] = 1\n",
    "#         label = detections[i,4]\n",
    "#         indices = np.arange(detections.shape[0])\n",
    "#         available_id = np.ones(detections.shape[0],dtype=int)\n",
    "#         available_id[i] = 0\n",
    "#         #available_id[detections[:,4] != label] = 0\n",
    "#         available_id[visited != 0] = 0\n",
    "#         mask = available_id != 0\n",
    "#         # get similar detections that have not been visited\n",
    "#         similar_detections = detections[mask,:]\n",
    "#         if similar_detections.shape[0] == 0:\n",
    "#             maximum.append(i)\n",
    "#             continue\n",
    "        \n",
    "#         indices = indices[mask]\n",
    "#         mask2 = (similar_detections[:,0] >= detections[i,0]) & \\\n",
    "#                 (similar_detections[:,1] >= detections[i,1]) & \\\n",
    "#                 (similar_detections[:,0] < (detections[i,0]+detections[i,2])) & \\\n",
    "#                 (similar_detections[:,1] < (detections[i,1]+detections[i,3]))\n",
    "#         similar_detections = similar_detections[mask2,:]\n",
    "#         if similar_detections.shape[0] == 0:\n",
    "#             maximum.append(i)\n",
    "#             continue\n",
    "        \n",
    "#         indices = indices[mask2]\n",
    "#         # now, we have detections with the same label and intersected\n",
    "#         #print(similar_detections[:,5])\n",
    "#         maxid = np.argmax(similar_detections[:,5])\n",
    "#         #print(maxid)\n",
    "#         if detections[i,5] >= similar_detections[maxid,5]:\n",
    "#             # if current box is the box with the largest score,\n",
    "#             # remove overlapping boxes which has an IoU over 0.5\n",
    "#             maximum.append(i)\n",
    "#             mask3 = np.ones(len(indices),dtype=int)\n",
    "#             for k in range(len(indices)):\n",
    "#                 if IoU(detections[i,:], similar_detections[k,:]) >= threshold:\n",
    "#                     # remove\n",
    "#                     continue\n",
    "#                 else:\n",
    "#                     mask3[k] = 0\n",
    "#             remove_indices = indices[mask3 == 1]\n",
    "#             visited[remove_indices] = 1\n",
    "#         else:\n",
    "#             # if current box is not the box with the largest score\n",
    "#             continue\n",
    "    detections = detections[maximum,:]\n",
    "        \n",
    "    return detections\n",
    "            "
   ]
  },
  {
   "cell_type": "code",
   "execution_count": 55,
   "metadata": {},
   "outputs": [
    {
     "name": "stdout",
     "output_type": "stream",
     "text": [
      "13068\n",
      "\t+ Label: 1, Conf: 0.99034\n",
      "\t+ Label: 1, Conf: 0.92407\n",
      "\t+ Label: 2, Conf: 1.00000\n",
      "\t+ Label: 3, Conf: 0.98318\n",
      "\t+ Label: 4, Conf: 0.92885\n",
      "\t+ Label: 5, Conf: 1.00000\n",
      "\t+ Label: 8, Conf: 0.92343\n"
     ]
    },
    {
     "data": {
      "text/plain": [
       "<Figure size 1440x720 with 0 Axes>"
      ]
     },
     "metadata": {},
     "output_type": "display_data"
    },
    {
     "data": {
      "text/plain": [
       "<Figure size 432x288 with 0 Axes>"
      ]
     },
     "metadata": {},
     "output_type": "display_data"
    },
    {
     "data": {
      "image/png": "[encoded data removed]",
      "text/plain": [
       "<Figure size 432x288 with 1 Axes>"
      ]
     },
     "metadata": {},
     "output_type": "display_data"
    }
   ],
   "source": [
    "full_test_set = PartyFull(train=False, transform=new_transform)\n",
    "print(len(full_test_set))\n",
    "full_test_loader = DataLoader(full_test_set, \n",
    "                              batch_size=1, shuffle=True, num_workers=1)\n",
    "\n",
    "model.eval()\n",
    "model.to(device)\n",
    "plt.figure(figsize=(20,10))\n",
    "classes = np.arange(10)\n",
    "for data, label in full_test_loader:\n",
    "    datagpu=data.to(device)\n",
    "    img = data[0].numpy().transpose((1,2,0))\n",
    "    img = img*std+mean\n",
    "    # Create plot\n",
    "    plt.figure()\n",
    "    fig, ax = plt.subplots(1)\n",
    "    ax.imshow(img)\n",
    "    \n",
    "    # load image, apply cnn, it equivalents to run sliding window with stride = 4 \n",
    "    # because of using two max-pooling: batch_size x channels x H x W\n",
    "    res_conv = model.features(datagpu)\n",
    "    res_conv = F.softmax(res_conv,dim=1).cpu()\n",
    "    #print(F.softmax(res_conv,dim=1))\n",
    "    #print((F.softmax(res_conv,dim=1)).argmax(1))\n",
    "    #print(\"input:%s, output:%s\"%(data.shape,res_conv.shape))\n",
    "    \n",
    "    # detection results\n",
    "    detections = detection(res_conv, 10, 0.9, stride=(4,4), sliding_win_size=(32,32))\n",
    "    #print(detections)\n",
    "    detections = nms_bbox(detections,classes,0.3)\n",
    "    \n",
    "    plotbbox(detections,img.shape[:1],img.shape[:2],ax)\n",
    "    \n",
    "    # Save generated image with detections\n",
    "    plt.axis(\"off\")\n",
    "    plt.gca().xaxis.set_major_locator(NullLocator())\n",
    "    plt.gca().yaxis.set_major_locator(NullLocator())\n",
    "\n",
    "    break"
   ]
  },
  {
   "cell_type": "code",
   "execution_count": 229,
   "metadata": {},
   "outputs": [
    {
     "name": "stdout",
     "output_type": "stream",
     "text": [
      "(0,)\n",
      "(5,)\n",
      "[ 0.  0. 32. 32.  1.  1.]\n",
      "[ 0.  0. 32. 32.  1.  1.]\n",
      "sx:0.0,sy:0.0,ex:32.0,ey:32.0\n",
      "i:1, iou:1.0\n",
      "[24.          0.         32.         32.          1.          0.99999964]\n",
      "[ 0.  0. 32. 32.  1.  1.]\n",
      "sx:24.0,sy:0.0,ex:32.0,ey:32.0\n",
      "i:1, iou:0.14285714285714285\n",
      "[68.         4.        32.        32.         1.         0.9998073]\n",
      "[ 0.  0. 32. 32.  1.  1.]\n",
      "sx:68.0,sy:4.0,ex:32.0,ey:32.0\n",
      "i:1, iou:-0.3298429319371728\n",
      "[12.          4.         32.         32.          1.          0.98793948]\n",
      "[ 0.  0. 32. 32.  1.  1.]\n",
      "sx:12.0,sy:4.0,ex:32.0,ey:32.0\n",
      "i:1, iou:0.3763440860215054\n",
      "[56.          0.         32.         32.          1.          0.91285878]\n",
      "[ 0.  0. 32. 32.  1.  1.]\n",
      "sx:56.0,sy:0.0,ex:32.0,ey:32.0\n",
      "i:1, iou:-0.2727272727272727\n",
      "[24.          0.         32.         32.          1.          0.99999964]\n",
      "[24.          0.         32.         32.          1.          0.99999964]\n",
      "sx:24.0,sy:0.0,ex:56.0,ey:32.0\n",
      "i:1, iou:1.0\n",
      "[68.         4.        32.        32.         1.         0.9998073]\n",
      "[24.          0.         32.         32.          1.          0.99999964]\n",
      "sx:68.0,sy:4.0,ex:56.0,ey:32.0\n",
      "i:1, iou:-0.14093959731543623\n",
      "[12.          4.         32.         32.          1.          0.98793948]\n",
      "[24.          0.         32.         32.          1.          0.99999964]\n",
      "sx:24.0,sy:4.0,ex:44.0,ey:32.0\n",
      "i:1, iou:0.3763440860215054\n",
      "[56.          0.         32.         32.          1.          0.91285878]\n",
      "[24.          0.         32.         32.          1.          0.99999964]\n",
      "sx:56.0,sy:0.0,ex:56.0,ey:32.0\n",
      "i:1, iou:0.0\n",
      "[68.         4.        32.        32.         1.         0.9998073]\n",
      "[68.         4.        32.        32.         1.         0.9998073]\n",
      "sx:68.0,sy:4.0,ex:100.0,ey:36.0\n",
      "i:1, iou:1.0\n",
      "[12.          4.         32.         32.          1.          0.98793948]\n",
      "[68.         4.        32.        32.         1.         0.9998073]\n",
      "sx:68.0,sy:4.0,ex:44.0,ey:36.0\n",
      "i:1, iou:-0.2727272727272727\n",
      "[56.          0.         32.         32.          1.          0.91285878]\n",
      "[68.         4.        32.        32.         1.         0.9998073]\n",
      "sx:68.0,sy:4.0,ex:88.0,ey:32.0\n",
      "i:1, iou:0.3763440860215054\n",
      "[12.          4.         32.         32.          1.          0.98793948]\n",
      "[12.          4.         32.         32.          1.          0.98793948]\n",
      "sx:12.0,sy:4.0,ex:44.0,ey:36.0\n",
      "i:1, iou:1.0\n",
      "[56.          0.         32.         32.          1.          0.91285878]\n",
      "[12.          4.         32.         32.          1.          0.98793948]\n",
      "sx:56.0,sy:4.0,ex:44.0,ey:32.0\n",
      "i:1, iou:-0.14093959731543623\n",
      "[56.          0.         32.         32.          1.          0.91285878]\n",
      "[56.          0.         32.         32.          1.          0.91285878]\n",
      "sx:56.0,sy:0.0,ex:88.0,ey:32.0\n",
      "i:1, iou:1.0\n",
      "(0,)\n",
      "(0,)\n",
      "(0,)\n",
      "(0,)\n",
      "(1,)\n",
      "[44.          4.         32.         32.          6.          0.99442923]\n",
      "[44.          4.         32.         32.          6.          0.99442923]\n",
      "sx:44.0,sy:4.0,ex:76.0,ey:36.0\n",
      "i:6, iou:1.0\n",
      "(1,)\n",
      "[36.          0.         32.         32.          7.          0.99997807]\n",
      "[36.          0.         32.         32.          7.          0.99997807]\n",
      "sx:36.0,sy:0.0,ex:68.0,ey:32.0\n",
      "i:7, iou:1.0\n",
      "(1,)\n",
      "[52.          0.         32.         32.          8.          0.96629679]\n",
      "[52.          0.         32.         32.          8.          0.96629679]\n",
      "sx:52.0,sy:0.0,ex:84.0,ey:32.0\n",
      "i:8, iou:1.0\n",
      "(0,)\n"
     ]
    }
   ],
   "source": [
    "detections = nms_bbox(detections,classes,0.5)"
   ]
  },
  {
   "cell_type": "code",
   "execution_count": 204,
   "metadata": {},
   "outputs": [
    {
     "name": "stdout",
     "output_type": "stream",
     "text": [
      "tensor([[ 1., 22.,  3.],\n",
      "        [ 2., 33., 44.]])\n",
      "tensor(44.)\n",
      "tensor([[2.6894e-01, 1.6701e-05, 1.5629e-18],\n",
      "        [7.3106e-01, 9.9998e-01, 1.0000e+00]])\n",
      "torch.Size([2, 3])\n"
     ]
    }
   ],
   "source": [
    "a = torch.Tensor([[1,22,3],[2,33,44]])\n",
    "print(a)\n",
    "print(a[1][2])\n",
    "print(F.softmax(a,dim=0))\n",
    "print(a.shape)\n",
    "w,h=a.shape"
   ]
  },
  {
   "cell_type": "code",
   "execution_count": 42,
   "metadata": {},
   "outputs": [
    {
     "name": "stdout",
     "output_type": "stream",
     "text": [
      "x tensor([[0.5596, 0.5591, 0.0915, 0.2100],\n",
      "        [0.0072, 0.0390, 0.9929, 0.9131],\n",
      "        [0.6186, 0.9744, 0.3189, 0.2148]])\n",
      "max tensor([0.5596, 0.9929, 0.9744])\n",
      "argmax tensor([0, 2, 1])\n",
      "y tensor([[3.0000, 0.4735, 0.5949, 0.7956],\n",
      "        [0.7635, 0.2137, 3.0000, 0.0386],\n",
      "        [0.5220, 3.0000, 0.6074, 0.5233]])\n"
     ]
    }
   ],
   "source": [
    "torch.manual_seed(4)\n",
    "x = torch.rand(3,4)\n",
    "y = torch.rand(3,4)\n",
    "print('x', x)\n",
    "val, argmax = x.max(1)\n",
    "print('max',val)\n",
    "print('argmax', argmax)\n",
    "y[np.arange(3), argmax] = 3\n",
    "print('y', y)"
   ]
  },
  {
   "cell_type": "code",
   "execution_count": 41,
   "metadata": {},
   "outputs": [
    {
     "name": "stdout",
     "output_type": "stream",
     "text": [
      "[1 2 3]\n",
      "5\n",
      "[[ 0 10]\n",
      " [ 1 11]\n",
      " [ 2 12]\n",
      " [ 3 13]\n",
      " [ 4 14]\n",
      " [ 5 15]\n",
      " [ 6 16]\n",
      " [ 7 17]\n",
      " [ 8 18]\n",
      " [ 9 19]]\n",
      "(0, 10)\n",
      "(1, 11)\n",
      "(2, 12)\n",
      "(3, 13)\n",
      "(4, 14)\n",
      "(5, 15)\n",
      "(6, 16)\n",
      "(7, 17)\n",
      "(8, 18)\n",
      "(9, 19)\n"
     ]
    },
    {
     "data": {
      "text/plain": [
       "array([[[ 1, 11],\n",
       "        [ 2, 12]],\n",
       "\n",
       "       [[ 4, 14],\n",
       "        [ 5, 15]]])"
      ]
     },
     "execution_count": 41,
     "metadata": {},
     "output_type": "execute_result"
    }
   ],
   "source": [
    "a = np.array([[1,2,3]])\n",
    "a = a.flatten()\n",
    "print(a)\n",
    "b = (4,5)\n",
    "print(b[1])\n",
    "img = np.ones((320,240),dtype=int)\n",
    "a = np.array([np.arange(10),np.arange(10,20)]).transpose()\n",
    "print(a)\n",
    "for i,j in a:\n",
    "    print((i,j))\n",
    "a[[[1,2],[4,5]],:]"
   ]
  },
  {
   "cell_type": "code",
   "execution_count": 101,
   "metadata": {},
   "outputs": [
    {
     "name": "stdout",
     "output_type": "stream",
     "text": [
      "10\n"
     ]
    },
    {
     "ename": "TypeError",
     "evalue": "'list' object cannot be interpreted as an integer",
     "output_type": "error",
     "traceback": [
      "\u001b[0;31m---------------------------------------------------------------------------\u001b[0m",
      "\u001b[0;31mTypeError\u001b[0m                                 Traceback (most recent call last)",
      "\u001b[0;32m<ipython-input-101-1bebd3ca9547>\u001b[0m in \u001b[0;36m<module>\u001b[0;34m\u001b[0m\n\u001b[1;32m      2\u001b[0m \u001b[0mprint\u001b[0m\u001b[0;34m(\u001b[0m\u001b[0mlen\u001b[0m\u001b[0;34m(\u001b[0m\u001b[0ma\u001b[0m\u001b[0;34m)\u001b[0m\u001b[0;34m)\u001b[0m\u001b[0;34m\u001b[0m\u001b[0;34m\u001b[0m\u001b[0m\n\u001b[1;32m      3\u001b[0m \u001b[0mcc\u001b[0m \u001b[0;34m=\u001b[0m \u001b[0;34m[\u001b[0m\u001b[0;36m1\u001b[0m\u001b[0;34m,\u001b[0m\u001b[0;36m2\u001b[0m\u001b[0;34m,\u001b[0m\u001b[0;36m3\u001b[0m\u001b[0;34m,\u001b[0m\u001b[0;36m4\u001b[0m\u001b[0;34m,\u001b[0m\u001b[0;36m5\u001b[0m\u001b[0;34m,\u001b[0m\u001b[0;36m6\u001b[0m\u001b[0;34m]\u001b[0m\u001b[0;34m\u001b[0m\u001b[0;34m\u001b[0m\u001b[0m\n\u001b[0;32m----> 4\u001b[0;31m \u001b[0mcc\u001b[0m\u001b[0;34m.\u001b[0m\u001b[0mpop\u001b[0m\u001b[0;34m(\u001b[0m\u001b[0;34m[\u001b[0m\u001b[0;36m2\u001b[0m\u001b[0;34m,\u001b[0m\u001b[0;36m3\u001b[0m\u001b[0;34m,\u001b[0m\u001b[0;36m4\u001b[0m\u001b[0;34m]\u001b[0m\u001b[0;34m)\u001b[0m\u001b[0;34m\u001b[0m\u001b[0;34m\u001b[0m\u001b[0m\n\u001b[0m\u001b[1;32m      5\u001b[0m \u001b[0mprint\u001b[0m\u001b[0;34m(\u001b[0m\u001b[0mcc\u001b[0m\u001b[0;34m)\u001b[0m\u001b[0;34m\u001b[0m\u001b[0;34m\u001b[0m\u001b[0m\n",
      "\u001b[0;31mTypeError\u001b[0m: 'list' object cannot be interpreted as an integer"
     ]
    }
   ],
   "source": [
    "a = np.arange(10)\n",
    "print(len(a))\n",
    "cc = [1,2,3,4,5,6]\n",
    "cc.pop([2,3,4])\n",
    "print(cc)\n"
   ]
  },
  {
   "cell_type": "code",
   "execution_count": null,
   "metadata": {},
   "outputs": [],
   "source": []
  }
 ],
 "metadata": {
  "kernelspec": {
   "display_name": "Python 3",
   "language": "python",
   "name": "python3"
  },
  "language_info": {
   "codemirror_mode": {
    "name": "ipython",
    "version": 3
   },
   "file_extension": ".py",
   "mimetype": "text/x-python",
   "name": "python",
   "nbconvert_exporter": "python",
   "pygments_lexer": "ipython3",
   "version": "3.7.1"
  }
 },
 "nbformat": 4,
 "nbformat_minor": 2
}
