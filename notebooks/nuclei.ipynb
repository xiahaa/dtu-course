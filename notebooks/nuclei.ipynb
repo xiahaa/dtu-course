{
 "cells": [
  {
   "cell_type": "code",
   "execution_count": 12,
   "metadata": {},
   "outputs": [],
   "source": [
    "from skimage.io import imread\n",
    "import os\n",
    "from skimage.transform import resize\n",
    "import numpy as np"
   ]
  },
  {
   "cell_type": "code",
   "execution_count": 2,
   "metadata": {},
   "outputs": [],
   "source": [
    "train_images = []\n",
    "train_masks = []\n",
    "root = './data/nuclei/train'\n",
    "for subdir in os.listdir(root):\n",
    "    subfolder = os.path.join(root,subdir)\n",
    "    if os.path.isdir(subfolder):\n",
    "        #print(subdir)\n",
    "        for subsubfolder_name in os.listdir(subfolder):\n",
    "            if subsubfolder_name == 'images':\n",
    "                for _,_,files in os.walk(os.path.join(subfolder,subsubfolder_name)):\n",
    "                    for file in files:\n",
    "                        if file.endswith('.png'):\n",
    "                            train_images.append(imread(os.path.join(subfolder,subsubfolder_name,file)))\n",
    "            if subsubfolder_name == 'masks':\n",
    "                for _,_,files in os.walk(os.path.join(subfolder,subsubfolder_name)):\n",
    "                    masks = []\n",
    "                    for file in files:\n",
    "                        if file.endswith('.png'):\n",
    "                            masks.append(imread(os.path.join(subfolder,subsubfolder_name,file)))\n",
    "                    train_masks.append(masks)\n"
   ]
  },
  {
   "cell_type": "markdown",
   "metadata": {},
   "source": [
    "## Note:\n",
    "1. from print, we know that train images are not the same size, 4 channels-rgb+alpha. \n",
    "2. mask images are the same size as train images.\n",
    "\n",
    "## TODO：\n",
    "1. let's firstly try the simplest solution, resize them all to 256x256;\n",
    "2. better solution could be crop 256x256 from images;"
   ]
  },
  {
   "cell_type": "code",
   "execution_count": 14,
   "metadata": {},
   "outputs": [
    {
     "name": "stdout",
     "output_type": "stream",
     "text": [
      "there are 670 train images\n",
      "[  0 254 255]\n"
     ]
    }
   ],
   "source": [
    "print(\"there are %d train images\"%(len(train_images)))\n",
    "#for image in train_images:\n",
    "#    print(image.shape)\n",
    "for masks in train_masks:\n",
    "    maskc = next(iter(masks))\n",
    "    for mask in masks:\n",
    "        maskc = maskc + mask\n",
    "    break\n",
    "maskc = np.array(maskc,dtype=int)\n",
    "print(np.unique(maskc))"
   ]
  },
  {
   "cell_type": "code",
   "execution_count": null,
   "metadata": {},
   "outputs": [],
   "source": [
    "size = (256, 256)\n",
    "X = [resize(x, size, mode='constant', anti_aliasing=True) for x in train_images]\n",
    "# thresholding to get the mask\n",
    "Y = [resize(y, size, mode='constant', anti_aliasing=False) > 0.5 for y in lesions]"
   ]
  }
 ],
 "metadata": {
  "kernelspec": {
   "display_name": "Python 3",
   "language": "python",
   "name": "python3"
  },
  "language_info": {
   "codemirror_mode": {
    "name": "ipython",
    "version": 3
   },
   "file_extension": ".py",
   "mimetype": "text/x-python",
   "name": "python",
   "nbconvert_exporter": "python",
   "pygments_lexer": "ipython3",
   "version": "3.7.3"
  }
 },
 "nbformat": 4,
 "nbformat_minor": 2
}
