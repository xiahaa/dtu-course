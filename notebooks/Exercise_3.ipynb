{
 "cells": [
  {
   "cell_type": "markdown",
   "metadata": {},
   "source": [
    "# Exercise 3.1\n",
    "### Generation of MNIST digits with a GAN\n",
    "\n",
    "First we import the modules we need"
   ]
  },
  {
   "cell_type": "code",
   "execution_count": 2,
   "metadata": {},
   "outputs": [],
   "source": [
    "import numpy as np\n",
    "from tqdm import tqdm_notebook as tqdm\n",
    "import torch\n",
    "import torch.nn as nn\n",
    "import torch.nn.functional as F\n",
    "import torchvision.datasets as datasets\n",
    "from torch.utils.data import DataLoader\n",
    "import torchvision.transforms as transforms\n",
    "from IPython import display\n",
    "import matplotlib.pylab as plt\n",
    "import ipywidgets"
   ]
  },
  {
   "cell_type": "code",
   "execution_count": 3,
   "metadata": {},
   "outputs": [
    {
     "name": "stdout",
     "output_type": "stream",
     "text": [
      "The code will run on GPU. This is important so things run faster.\n"
     ]
    }
   ],
   "source": [
    "if torch.cuda.is_available():\n",
    "    print(\"The code will run on GPU. This is important so things run faster.\")\n",
    "else:\n",
    "    print(\"The code will run on CPU. You should probably not do this.\")\n",
    "device = torch.device('cuda' if torch.cuda.is_available() else 'cpu')"
   ]
  },
  {
   "cell_type": "code",
   "execution_count": 4,
   "metadata": {},
   "outputs": [],
   "source": [
    "batch_size = 64\n",
    "trainset = datasets.MNIST('./data', train=True, download=True, transform=transforms.ToTensor())\n",
    "train_loader = DataLoader(trainset, batch_size=batch_size, shuffle=True, num_workers=1)\n",
    "testset = datasets.MNIST('./data', train=False, download=True, transform=transforms.ToTensor())\n",
    "test_loader = DataLoader(testset, batch_size=batch_size, shuffle=False, num_workers=1)"
   ]
  },
  {
   "cell_type": "markdown",
   "metadata": {},
   "source": [
    "Implement your **generator** network as a fully connected neural network\n",
    "\n",
    "Start out with a network that:\n",
    "* takes as input 100 Normally distributed numbers\n",
    "* has four hidden layers with 4096 neurons\n",
    "* uses LeakyReLU as the activation function\n",
    "* uses BatchNorm\n",
    "* has Tanh as the last layer (we work with MNIST in the -1 to 1 range)"
   ]
  },
  {
   "cell_type": "code",
   "execution_count": 5,
   "metadata": {},
   "outputs": [],
   "source": [
    "class G(nn.Module):\n",
    "    def __init__(self):\n",
    "        super(G, self).__init__()\n",
    "        self.fc = nn.Sequential(\n",
    "            nn.Linear(100, 4096),\n",
    "            nn.LeakyReLU(0.1),\n",
    "            nn.BatchNorm1d(4096),\n",
    "            nn.Linear(4096,4096),\n",
    "            nn.LeakyReLU(0.1),\n",
    "            nn.BatchNorm1d(4096),\n",
    "            nn.Linear(4096,4096),\n",
    "            nn.LeakyReLU(0.1),\n",
    "            nn.BatchNorm1d(4096),\n",
    "            nn.Linear(4096,4096),\n",
    "            nn.LeakyReLU(0.1),\n",
    "            nn.BatchNorm1d(4096),\n",
    "            nn.Linear(4096,784),\n",
    "            nn.Tanh()\n",
    "        )\n",
    "        \n",
    "    def forward(self, x):\n",
    "        x = self.fc(x)\n",
    "        x = x.view(x.size(0), 1, 28, 28)\n",
    "        return x"
   ]
  },
  {
   "cell_type": "markdown",
   "metadata": {},
   "source": [
    "Implement your **discriminator** network as a fully connected neural network\n",
    "\n",
    "Start out with a network that\n",
    "* takes as input an $28\\times28$ image\n",
    "* has three hidden layers with [1024, 512, 256] neurons respectively\n",
    "* uses LeakyReLU as the activation function\n",
    "* uses Dropout\n",
    "* has Tanh as the last layer (we work with MNIST in the -1 to 1 range)"
   ]
  },
  {
   "cell_type": "code",
   "execution_count": 6,
   "metadata": {},
   "outputs": [],
   "source": [
    "class D(nn.Module):\n",
    "    def __init__(self):\n",
    "        super(D, self).__init__()       \n",
    "        self.discriminator = nn.Sequential(\n",
    "            nn.Linear(784,1024),\n",
    "            nn.LeakyReLU(0.1),\n",
    "            nn.Dropout(p=0.5),\n",
    "            nn.Linear(1024,512),\n",
    "            nn.LeakyReLU(0.1),\n",
    "            nn.Dropout(p=0.5),\n",
    "            nn.Linear(512,256),\n",
    "            nn.LeakyReLU(0.1),\n",
    "            nn.Dropout(p=0.5),\n",
    "            nn.Linear(256,1),\n",
    "#             nn.Sigmoid()\n",
    "        )\n",
    "    \n",
    "    def forward(self, x):\n",
    "        x = x.view(x.size(0), -1)\n",
    "        x = self.discriminator(x)\n",
    "        return x"
   ]
  },
  {
   "cell_type": "markdown",
   "metadata": {},
   "source": [
    "## DCGAN"
   ]
  },
  {
   "cell_type": "code",
   "execution_count": 7,
   "metadata": {},
   "outputs": [],
   "source": [
    "class DCGAN_G(nn.Module):\n",
    "    def __init__(self, input_features, output_features):\n",
    "        super(DCGAN_G, self).__init__()\n",
    "        self.fc = nn.Sequential(\n",
    "            nn.ConvTranspose2d(input_features, 1024, 3, stride=2), # 1->3\n",
    "            nn.LeakyReLU(0.1),\n",
    "            nn.BatchNorm2d(1024),\n",
    "            nn.ConvTranspose2d(1024, 512, 3, stride=2),# 3->7\n",
    "            nn.LeakyReLU(0.1),\n",
    "            nn.BatchNorm2d(512),\n",
    "            nn.ConvTranspose2d(512, 256, 2, stride=2),# 7->14\n",
    "            nn.LeakyReLU(0.1),\n",
    "            nn.BatchNorm2d(256),\n",
    "            nn.ConvTranspose2d(256, 128, 2, stride=2),# 14->28\n",
    "            nn.LeakyReLU(0.1),\n",
    "            nn.BatchNorm2d(128),\n",
    "            nn.Conv2d(128, output_features, 3, stride=1, padding = 1),\n",
    "            nn.Tanh()\n",
    "        )\n",
    "        \n",
    "    def forward(self, x):\n",
    "        x = x.view(x.size(0), x.size(1), 1, 1)\n",
    "#         print(x.shape)\n",
    "        x = self.fc(x)\n",
    "#         x = x.view(x.size(0), 1, 28, 28)\n",
    "        return x\n",
    "\n",
    "class DCGAN_D(nn.Module):\n",
    "    def __init__(self, output_features):\n",
    "        super(DCGAN_D, self).__init__()   \n",
    "        self.cnn0 = nn.Sequential(\n",
    "            nn.Conv2d(1, 128, 3, stride = 2, padding = 1), # 28 -> 14\n",
    "            nn.LeakyReLU(0.1),\n",
    "            nn.Dropout(p=0.5)\n",
    "#             nn.BatchNorm2d(128),\n",
    "        )\n",
    "        \n",
    "        self.cnn1 = nn.Sequential(\n",
    "            nn.Conv2d(128,256,3, stride = 2, padding = 1), # 14-> 7\n",
    "            nn.LeakyReLU(0.1),\n",
    "            nn.Dropout(p=0.5)\n",
    "#             nn.BatchNorm2d(256)\n",
    "        )\n",
    "        \n",
    "        self.cnn2 = nn.Sequential(\n",
    "            nn.Conv2d(256,512,7, stride = 1, padding = 0), # 7 -> 1\n",
    "            nn.LeakyReLU(0.1),\n",
    "            nn.Dropout(p=0.5)\n",
    "#             nn.BatchNorm2d(512)\n",
    "        )\n",
    "        \n",
    "        self.discriminator = nn.Sequential(\n",
    "            nn.Conv2d(512,output_features,1, stride = 1, padding = 0), # 1 -> 1\n",
    "#             nn.Sigmoid()\n",
    "        )\n",
    "    \n",
    "    def forward(self, x):\n",
    "        x = self.cnn0(x)\n",
    "        x = self.cnn1(x)\n",
    "        x = self.cnn2(x)\n",
    "        x = self.discriminator(x)\n",
    "        return x"
   ]
  },
  {
   "cell_type": "markdown",
   "metadata": {},
   "source": [
    "## Loss Function Section"
   ]
  },
  {
   "cell_type": "code",
   "execution_count": 8,
   "metadata": {},
   "outputs": [],
   "source": [
    "def vanilla_loss_d(dx, dz):    \n",
    "    ## dx dz have passed sigmoid, range from 0 to 1\n",
    "#     return -(torch.mean(torch.log(dx)) + torch.mean(torch.log(1-dz)))\n",
    "    return torch.mean(-dx + torch.log(torch.exp(dx)+1)+torch.log(torch.exp(dz)+1))\n",
    "\n",
    "def vanilla_loss_g(dz):\n",
    "    ## dx dz have passed sigmoid, range from 0 to 1\n",
    "#     return -torch.mean(torch.log(dz))\n",
    "    return torch.mean(torch.log(torch.exp(-dz)+1))"
   ]
  },
  {
   "cell_type": "code",
   "execution_count": 9,
   "metadata": {},
   "outputs": [],
   "source": [
    "def wgan_loss_d(dx, dz):\n",
    "    return -(torch.mean(dx) - torch.mean(dz))\n",
    "\n",
    "def lsgan_loss_d(dx, dz):\n",
    "    b = 1\n",
    "    return 0.5*torch.mean((dx - b)**2)+0.5*torch.mean((dz)**2)\n",
    "\n",
    "def lsgan_loss_g(dz):\n",
    "    c = 1\n",
    "    return 0.5*torch.mean((dz-c)**2)"
   ]
  },
  {
   "cell_type": "code",
   "execution_count": 39,
   "metadata": {
    "scrolled": true
   },
   "outputs": [
    {
     "data": {
      "application/vnd.jupyter.widget-view+json": {
       "model_id": "7be76bd2a3e049ee8d9b2e02132a9ecc",
       "version_major": 2,
       "version_minor": 0
      },
      "text/plain": [
       "Output()"
      ]
     },
     "metadata": {},
     "output_type": "display_data"
    },
    {
     "data": {
      "application/vnd.jupyter.widget-view+json": {
       "model_id": "195f898511ea4c889f9301e851fcab3a",
       "version_major": 2,
       "version_minor": 0
      },
      "text/plain": [
       "HBox(children=(IntProgress(value=0, max=10), HTML(value='')))"
      ]
     },
     "metadata": {},
     "output_type": "display_data"
    },
    {
     "data": {
      "application/vnd.jupyter.widget-view+json": {
       "model_id": "4c834f09b8194991a4ed3de3ce9e2c48",
       "version_major": 2,
       "version_minor": 0
      },
      "text/plain": [
       "HBox(children=(IntProgress(value=0, max=938), HTML(value='')))"
      ]
     },
     "metadata": {},
     "output_type": "display_data"
    },
    {
     "data": {
      "application/vnd.jupyter.widget-view+json": {
       "model_id": "9d3ed28a0f0247fdb42c012ff718245b",
       "version_major": 2,
       "version_minor": 0
      },
      "text/plain": [
       "HBox(children=(IntProgress(value=0, max=938), HTML(value='')))"
      ]
     },
     "metadata": {},
     "output_type": "display_data"
    },
    {
     "data": {
      "application/vnd.jupyter.widget-view+json": {
       "model_id": "3cc2b0352e194995ac2932b4fd35f8e7",
       "version_major": 2,
       "version_minor": 0
      },
      "text/plain": [
       "HBox(children=(IntProgress(value=0, max=938), HTML(value='')))"
      ]
     },
     "metadata": {},
     "output_type": "display_data"
    },
    {
     "data": {
      "application/vnd.jupyter.widget-view+json": {
       "model_id": "22817447f38d435ea770171e9dc578ee",
       "version_major": 2,
       "version_minor": 0
      },
      "text/plain": [
       "HBox(children=(IntProgress(value=0, max=938), HTML(value='')))"
      ]
     },
     "metadata": {},
     "output_type": "display_data"
    },
    {
     "data": {
      "application/vnd.jupyter.widget-view+json": {
       "model_id": "df281360182946ab9c60d91d5b708f95",
       "version_major": 2,
       "version_minor": 0
      },
      "text/plain": [
       "HBox(children=(IntProgress(value=0, max=938), HTML(value='')))"
      ]
     },
     "metadata": {},
     "output_type": "display_data"
    },
    {
     "data": {
      "application/vnd.jupyter.widget-view+json": {
       "model_id": "b15a041b8a5441ff9bae511d237ff001",
       "version_major": 2,
       "version_minor": 0
      },
      "text/plain": [
       "HBox(children=(IntProgress(value=0, max=938), HTML(value='')))"
      ]
     },
     "metadata": {},
     "output_type": "display_data"
    },
    {
     "data": {
      "application/vnd.jupyter.widget-view+json": {
       "model_id": "cda143150a7540ff80d2a80536fe7a25",
       "version_major": 2,
       "version_minor": 0
      },
      "text/plain": [
       "HBox(children=(IntProgress(value=0, max=938), HTML(value='')))"
      ]
     },
     "metadata": {},
     "output_type": "display_data"
    },
    {
     "data": {
      "application/vnd.jupyter.widget-view+json": {
       "model_id": "36da0d37dd44433ba70a03038cc62c0a",
       "version_major": 2,
       "version_minor": 0
      },
      "text/plain": [
       "HBox(children=(IntProgress(value=0, max=938), HTML(value='')))"
      ]
     },
     "metadata": {},
     "output_type": "display_data"
    },
    {
     "data": {
      "application/vnd.jupyter.widget-view+json": {
       "model_id": "245156f1779b4931a21cdb4e52bedfe3",
       "version_major": 2,
       "version_minor": 0
      },
      "text/plain": [
       "HBox(children=(IntProgress(value=0, max=938), HTML(value='')))"
      ]
     },
     "metadata": {},
     "output_type": "display_data"
    },
    {
     "data": {
      "application/vnd.jupyter.widget-view+json": {
       "model_id": "b61fd0ee9c6c4de8b0f161c726dcf953",
       "version_major": 2,
       "version_minor": 0
      },
      "text/plain": [
       "HBox(children=(IntProgress(value=0, max=938), HTML(value='')))"
      ]
     },
     "metadata": {},
     "output_type": "display_data"
    },
    {
     "data": {
      "image/png": "[encoded data removed]",
      "text/plain": [
       "<Figure size 1440x720 with 12 Axes>"
      ]
     },
     "metadata": {
      "needs_background": "light"
     },
     "output_type": "display_data"
    }
   ],
   "source": [
    "useDCGAN = True\n",
    "if useDCGAN == True:\n",
    "    #Initialize networks\n",
    "    d = DCGAN_D(1).to(device)\n",
    "    g = DCGAN_G(100,1).to(device)\n",
    "else:\n",
    "    #Initialize networks\n",
    "    d = D().to(device)\n",
    "    g = G().to(device)\n",
    "\n",
    "\n",
    "losstype = 1\n",
    "if losstype == 1:\n",
    "    cost_d = lsgan_loss_d\n",
    "    cost_g = lsgan_loss_g\n",
    "elif losstype == 2:\n",
    "    cost_d = vanilla_loss_d\n",
    "    cost_g = vanilla_loss_g\n",
    "\n",
    "#d_opt = torch.optim.SGD(d.parameters(), 0.002, momentum=0.9)\n",
    "d_opt = torch.optim.Adam(d.parameters(), 0.0002, (0.5, 0.999))\n",
    "g_opt = torch.optim.Adam(g.parameters(), 0.0001, (0.5, 0.999))\n",
    "\n",
    "#Clean up all old variables on the GPU no longer in use\n",
    "torch.cuda.empty_cache()\n",
    "\n",
    "visualization = ipywidgets.Output()\n",
    "display.display(visualization)\n",
    "\n",
    "with visualization:\n",
    "    plt.figure(figsize=(20,10))\n",
    "subplots = [plt.subplot(2, 6, k+1) for k in range(12)]\n",
    "num_epochs = 10\n",
    "for epoch in tqdm(range(num_epochs), unit='epoch'):\n",
    "    for minibatch_no, (x, target) in tqdm(enumerate(train_loader), total=len(train_loader)):\n",
    "        x = x.to(device)*2-1\n",
    "        \n",
    "        #Update Discriminator\n",
    "        z = torch.randn(x.shape[0], 100).to(device)\n",
    "        d.zero_grad()\n",
    "        with torch.no_grad(): #We don't need gradients for G when we update D\n",
    "            xhat = g(z)\n",
    "        d_loss=cost_d(d(x), d(xhat))\n",
    "        \n",
    "        d_loss.backward()\n",
    "        d_opt.step()\n",
    "\n",
    "        #Update Generator\n",
    "        z = torch.randn(batch_size, 100).cuda()\n",
    "        g.zero_grad()\n",
    "        xhat = g(z)\n",
    "        g_loss = cost_g(d(xhat))\n",
    "        g_loss.backward()\n",
    "        g_opt.step()\n",
    "        \n",
    "        assert(not np.isnan(d_loss.item()))\n",
    "        #Plot every 100 minibatches\n",
    "        if minibatch_no % 100 == 0:\n",
    "            with torch.no_grad(), visualization:\n",
    "                P = torch.sigmoid(d(xhat))\n",
    "                for k in range(11):\n",
    "                    xhat_k = xhat[k].cpu().squeeze()/2+.5\n",
    "                    subplots[k].imshow(xhat_k, cmap='gray')\n",
    "                    subplots[k].set_title('P=%.2f' % P[k])\n",
    "                    subplots[k].axis('off')\n",
    "\n",
    "                H1 = d(g(torch.randn(batch_size, 100).to(device)))\n",
    "                H2 = d(x)\n",
    "               \n",
    "                subplots[11].cla()\n",
    "                subplots[11].hist(H1.cpu().squeeze(), label='fake', range=(0, 1), alpha=0.5)\n",
    "                subplots[11].hist(H2.cpu().squeeze(), label='real', range=(0, 1), alpha=0.5)\n",
    "                subplots[11].legend()\n",
    "                subplots[11].set_title('Discriminator loss: %.2f' % d_loss.item())\n",
    "\n",
    "                display.display(plt.gcf())\n",
    "                display.clear_output(wait=True)\n",
    "                "
   ]
  },
  {
   "cell_type": "markdown",
   "metadata": {},
   "source": [
    "Did you get a model to generate nice images?\n",
    "Consider these\n",
    "# Additional tasks\n",
    "* Implement another loss - **done**\n",
    "* Convert your network to a DCGAN - **done**\n",
    "* Generate images from FashionMNIST - **done**\n",
    "* Convert your architecture into a cGAN - **done**\n",
    "* Hard: Create a cGAN model to convert from SVHN to MNIST"
   ]
  },
  {
   "cell_type": "code",
   "execution_count": 40,
   "metadata": {},
   "outputs": [
    {
     "name": "stdout",
     "output_type": "stream",
     "text": [
      "-1.6094379124341003\n"
     ]
    }
   ],
   "source": [
    "print(np.log(0.2))"
   ]
  },
  {
   "cell_type": "markdown",
   "metadata": {},
   "source": [
    "## FashionMNIST\n",
    "\n",
    "### my initial implementation: hope it will work."
   ]
  },
  {
   "cell_type": "code",
   "execution_count": 41,
   "metadata": {},
   "outputs": [],
   "source": [
    "# download\n",
    "batch_size = 64\n",
    "fashion_trainset = datasets.FashionMNIST('./data', train=True, download=True, \n",
    "                                         transform=transforms.ToTensor())\n",
    "fashion_train_loader = DataLoader(fashion_trainset, \n",
    "                                  batch_size=batch_size, \n",
    "                                  shuffle=True, num_workers=1)\n",
    "fashion_testset = datasets.FashionMNIST('./data', train=False, download=True, \n",
    "                                        transform=transforms.ToTensor())\n",
    "fashion_test_loader = DataLoader(fashion_trainset, \n",
    "                                 batch_size=batch_size, \n",
    "                                 shuffle=False, num_workers=1)\n"
   ]
  },
  {
   "cell_type": "code",
   "execution_count": 42,
   "metadata": {},
   "outputs": [
    {
     "name": "stdout",
     "output_type": "stream",
     "text": [
      "The code will run on GPU. This is important so things run faster.\n"
     ]
    }
   ],
   "source": [
    "if torch.cuda.is_available():\n",
    "    print(\"The code will run on GPU. This is important so things run faster.\")\n",
    "else:\n",
    "    print(\"The code will run on CPU. You should probably not do this.\")\n",
    "device = torch.device('cuda' if torch.cuda.is_available() else 'cpu')\n"
   ]
  },
  {
   "cell_type": "code",
   "execution_count": 46,
   "metadata": {},
   "outputs": [
    {
     "data": {
      "application/vnd.jupyter.widget-view+json": {
       "model_id": "964e7bed69144896825ba6d4213110b6",
       "version_major": 2,
       "version_minor": 0
      },
      "text/plain": [
       "Output()"
      ]
     },
     "metadata": {},
     "output_type": "display_data"
    },
    {
     "data": {
      "application/vnd.jupyter.widget-view+json": {
       "model_id": "59d9558340184731a2c2110f1101ac44",
       "version_major": 2,
       "version_minor": 0
      },
      "text/plain": [
       "HBox(children=(IntProgress(value=0, max=10), HTML(value='')))"
      ]
     },
     "metadata": {},
     "output_type": "display_data"
    },
    {
     "data": {
      "application/vnd.jupyter.widget-view+json": {
       "model_id": "f89b3a4e49a24f5f8fdee85e36a8ec5e",
       "version_major": 2,
       "version_minor": 0
      },
      "text/plain": [
       "HBox(children=(IntProgress(value=0, max=938), HTML(value='')))"
      ]
     },
     "metadata": {},
     "output_type": "display_data"
    },
    {
     "data": {
      "application/vnd.jupyter.widget-view+json": {
       "model_id": "db79e1b7ecbc486f807a4703ff3f9083",
       "version_major": 2,
       "version_minor": 0
      },
      "text/plain": [
       "HBox(children=(IntProgress(value=0, max=938), HTML(value='')))"
      ]
     },
     "metadata": {},
     "output_type": "display_data"
    },
    {
     "data": {
      "application/vnd.jupyter.widget-view+json": {
       "model_id": "0bec27a258e84e4ab5c3c31ab9d75733",
       "version_major": 2,
       "version_minor": 0
      },
      "text/plain": [
       "HBox(children=(IntProgress(value=0, max=938), HTML(value='')))"
      ]
     },
     "metadata": {},
     "output_type": "display_data"
    },
    {
     "data": {
      "application/vnd.jupyter.widget-view+json": {
       "model_id": "c5d105fb0527414d8f009165e901b457",
       "version_major": 2,
       "version_minor": 0
      },
      "text/plain": [
       "HBox(children=(IntProgress(value=0, max=938), HTML(value='')))"
      ]
     },
     "metadata": {},
     "output_type": "display_data"
    },
    {
     "data": {
      "application/vnd.jupyter.widget-view+json": {
       "model_id": "894c0b1c40654f2eaa5fb79e708aa19b",
       "version_major": 2,
       "version_minor": 0
      },
      "text/plain": [
       "HBox(children=(IntProgress(value=0, max=938), HTML(value='')))"
      ]
     },
     "metadata": {},
     "output_type": "display_data"
    },
    {
     "data": {
      "application/vnd.jupyter.widget-view+json": {
       "model_id": "efbbb4d07ef1496183e3ec66218fd974",
       "version_major": 2,
       "version_minor": 0
      },
      "text/plain": [
       "HBox(children=(IntProgress(value=0, max=938), HTML(value='')))"
      ]
     },
     "metadata": {},
     "output_type": "display_data"
    },
    {
     "data": {
      "application/vnd.jupyter.widget-view+json": {
       "model_id": "7da6d4c042c14daead6ea4b9d263c9ee",
       "version_major": 2,
       "version_minor": 0
      },
      "text/plain": [
       "HBox(children=(IntProgress(value=0, max=938), HTML(value='')))"
      ]
     },
     "metadata": {},
     "output_type": "display_data"
    },
    {
     "data": {
      "application/vnd.jupyter.widget-view+json": {
       "model_id": "5c75983568be492097c95874105ac473",
       "version_major": 2,
       "version_minor": 0
      },
      "text/plain": [
       "HBox(children=(IntProgress(value=0, max=938), HTML(value='')))"
      ]
     },
     "metadata": {},
     "output_type": "display_data"
    },
    {
     "data": {
      "application/vnd.jupyter.widget-view+json": {
       "model_id": "f5c95eb8be5a41da9a9e7c5f6afe8a75",
       "version_major": 2,
       "version_minor": 0
      },
      "text/plain": [
       "HBox(children=(IntProgress(value=0, max=938), HTML(value='')))"
      ]
     },
     "metadata": {},
     "output_type": "display_data"
    },
    {
     "data": {
      "application/vnd.jupyter.widget-view+json": {
       "model_id": "c9c9b467c43d4b16876fb49b1a74cdd6",
       "version_major": 2,
       "version_minor": 0
      },
      "text/plain": [
       "HBox(children=(IntProgress(value=0, max=938), HTML(value='')))"
      ]
     },
     "metadata": {},
     "output_type": "display_data"
    },
    {
     "data": {
      "image/png": "[encoded data removed]",
      "text/plain": [
       "<Figure size 1440x720 with 12 Axes>"
      ]
     },
     "metadata": {
      "needs_background": "light"
     },
     "output_type": "display_data"
    }
   ],
   "source": [
    "useDCGAN = True\n",
    "if useDCGAN == True:\n",
    "    #Initialize networks\n",
    "    d = DCGAN_D(1).to(device)\n",
    "    g = DCGAN_G(1000,1).to(device)\n",
    "else:\n",
    "    #Initialize networks\n",
    "    d = D().to(device)\n",
    "    g = G().to(device)\n",
    "    \n",
    "\n",
    "losstype = 1\n",
    "if losstype == 1:\n",
    "    cost_d = lsgan_loss_d\n",
    "    cost_g = lsgan_loss_g\n",
    "elif losstype == 2:\n",
    "    cost_d = vanilla_loss_d\n",
    "    cost_g = vanilla_loss_g\n",
    "\n",
    "#d_opt = torch.optim.SGD(d.parameters(), 0.002, momentum=0.9)\n",
    "d_opt = torch.optim.Adam(d.parameters(), 0.0002, (0.5, 0.999))\n",
    "g_opt = torch.optim.Adam(g.parameters(), 0.0001, (0.5, 0.999))\n",
    "\n",
    "#Clean up all old variables on the GPU no longer in use\n",
    "torch.cuda.empty_cache()\n",
    "\n",
    "visualization = ipywidgets.Output()\n",
    "display.display(visualization)\n",
    "\n",
    "with visualization:\n",
    "    plt.figure(figsize=(20,10))\n",
    "subplots = [plt.subplot(2, 6, k+1) for k in range(12)]\n",
    "num_epochs = 10\n",
    "for epoch in tqdm(range(num_epochs), unit='epoch'):\n",
    "    for minibatch_no, (x, target) in tqdm(enumerate(fashion_train_loader), total=len(fashion_train_loader)):\n",
    "        x = x.to(device)*2-1\n",
    "        \n",
    "        #Update Discriminator\n",
    "        z = torch.randn(x.shape[0], 1000).to(device)\n",
    "        d.zero_grad()\n",
    "        with torch.no_grad(): #We don't need gradients for G when we update D\n",
    "            xhat = g(z)\n",
    "        d_loss=cost_d(d(x), d(xhat))\n",
    "        \n",
    "        d_loss.backward()\n",
    "        d_opt.step()\n",
    "\n",
    "        #Update Generator\n",
    "        z = torch.randn(batch_size, 1000).cuda()\n",
    "        g.zero_grad()\n",
    "        xhat = g(z)\n",
    "        g_loss = cost_g(d(xhat))\n",
    "        g_loss.backward()\n",
    "        g_opt.step()\n",
    "        \n",
    "        assert(not np.isnan(d_loss.item()))\n",
    "        #Plot every 100 minibatches\n",
    "        if minibatch_no % 100 == 0:\n",
    "            with torch.no_grad(), visualization:\n",
    "                P = (d(xhat))\n",
    "                for k in range(11):\n",
    "                    xhat_k = xhat[k].cpu().squeeze()/2+.5\n",
    "                    subplots[k].imshow(xhat_k, cmap='gray')\n",
    "                    subplots[k].set_title('P=%.2f' % P[k])\n",
    "                    subplots[k].axis('off')\n",
    "\n",
    "                H1 = d(g(torch.randn(batch_size, 1000).to(device)))\n",
    "                H2 = d(x)\n",
    "               \n",
    "                subplots[11].cla()\n",
    "                subplots[11].hist(H1.cpu().squeeze(), label='fake', range=(0, 1), alpha=0.5)\n",
    "                subplots[11].hist(H2.cpu().squeeze(), label='real', range=(0, 1), alpha=0.5)\n",
    "                subplots[11].legend()\n",
    "                subplots[11].set_title('Discriminator loss: %.2f' % d_loss.item())\n",
    "\n",
    "                display.display(plt.gcf())\n",
    "                display.clear_output(wait=True)\n",
    "                "
   ]
  },
  {
   "cell_type": "markdown",
   "metadata": {},
   "source": [
    "## CGAN - implementation"
   ]
  },
  {
   "cell_type": "code",
   "execution_count": 10,
   "metadata": {},
   "outputs": [],
   "source": [
    "loss = nn.BCELoss()\n",
    "def cgan_loss_d(d_real, x_label, d_xhat, z_label):\n",
    "    ## use soft-max\n",
    "    d_real = torch.sigmoid(d_real)\n",
    "    d_xhat = torch.sigmoid(d_xhat)\n",
    "    return loss(d_real,x_label)+loss(d_xhat,z_label)\n",
    "    \n",
    "\n",
    "def cgan_loss_g(d_xhat, z_label):\n",
    "    d_xhat = torch.sigmoid(d_xhat)\n",
    "    return loss(d_xhat,z_label)\n",
    "\n"
   ]
  },
  {
   "cell_type": "code",
   "execution_count": 82,
   "metadata": {
    "scrolled": true
   },
   "outputs": [
    {
     "data": {
      "application/vnd.jupyter.widget-view+json": {
       "model_id": "06038426c9e1495395f33c40fae62d04",
       "version_major": 2,
       "version_minor": 0
      },
      "text/plain": [
       "Output()"
      ]
     },
     "metadata": {},
     "output_type": "display_data"
    },
    {
     "data": {
      "application/vnd.jupyter.widget-view+json": {
       "model_id": "3b9837e9c83042b68bb811e178bee92c",
       "version_major": 2,
       "version_minor": 0
      },
      "text/plain": [
       "HBox(children=(IntProgress(value=0, max=10), HTML(value='')))"
      ]
     },
     "metadata": {},
     "output_type": "display_data"
    },
    {
     "data": {
      "application/vnd.jupyter.widget-view+json": {
       "model_id": "170dcb1a1bf3454a9a77b3a1394f3a14",
       "version_major": 2,
       "version_minor": 0
      },
      "text/plain": [
       "HBox(children=(IntProgress(value=0, max=938), HTML(value='')))"
      ]
     },
     "metadata": {},
     "output_type": "display_data"
    },
    {
     "data": {
      "application/vnd.jupyter.widget-view+json": {
       "model_id": "083ce16c0dfc443ea688672d3a539cb8",
       "version_major": 2,
       "version_minor": 0
      },
      "text/plain": [
       "HBox(children=(IntProgress(value=0, max=938), HTML(value='')))"
      ]
     },
     "metadata": {},
     "output_type": "display_data"
    },
    {
     "data": {
      "application/vnd.jupyter.widget-view+json": {
       "model_id": "f251b46b381b4fdb9e943769d3775bfb",
       "version_major": 2,
       "version_minor": 0
      },
      "text/plain": [
       "HBox(children=(IntProgress(value=0, max=938), HTML(value='')))"
      ]
     },
     "metadata": {},
     "output_type": "display_data"
    },
    {
     "data": {
      "application/vnd.jupyter.widget-view+json": {
       "model_id": "a8a28e18152c42e1a0727fe491d2579f",
       "version_major": 2,
       "version_minor": 0
      },
      "text/plain": [
       "HBox(children=(IntProgress(value=0, max=938), HTML(value='')))"
      ]
     },
     "metadata": {},
     "output_type": "display_data"
    },
    {
     "data": {
      "application/vnd.jupyter.widget-view+json": {
       "model_id": "e6deb73ab15c47dbb7cfb5febff14318",
       "version_major": 2,
       "version_minor": 0
      },
      "text/plain": [
       "HBox(children=(IntProgress(value=0, max=938), HTML(value='')))"
      ]
     },
     "metadata": {},
     "output_type": "display_data"
    },
    {
     "data": {
      "application/vnd.jupyter.widget-view+json": {
       "model_id": "9bf7e6c2c275400f858ddb4d1c53d30b",
       "version_major": 2,
       "version_minor": 0
      },
      "text/plain": [
       "HBox(children=(IntProgress(value=0, max=938), HTML(value='')))"
      ]
     },
     "metadata": {},
     "output_type": "display_data"
    },
    {
     "data": {
      "application/vnd.jupyter.widget-view+json": {
       "model_id": "6ae275c1296649dc8fd3ea9fbbc11947",
       "version_major": 2,
       "version_minor": 0
      },
      "text/plain": [
       "HBox(children=(IntProgress(value=0, max=938), HTML(value='')))"
      ]
     },
     "metadata": {},
     "output_type": "display_data"
    },
    {
     "data": {
      "application/vnd.jupyter.widget-view+json": {
       "model_id": "188de786d3984ff68b77f85972afd7d9",
       "version_major": 2,
       "version_minor": 0
      },
      "text/plain": [
       "HBox(children=(IntProgress(value=0, max=938), HTML(value='')))"
      ]
     },
     "metadata": {},
     "output_type": "display_data"
    },
    {
     "data": {
      "application/vnd.jupyter.widget-view+json": {
       "model_id": "9490cf1faf1641cbbd98a3362cc4a3c1",
       "version_major": 2,
       "version_minor": 0
      },
      "text/plain": [
       "HBox(children=(IntProgress(value=0, max=938), HTML(value='')))"
      ]
     },
     "metadata": {},
     "output_type": "display_data"
    },
    {
     "data": {
      "application/vnd.jupyter.widget-view+json": {
       "model_id": "00c3c174f0194ab4b83ea85e684e8f8e",
       "version_major": 2,
       "version_minor": 0
      },
      "text/plain": [
       "HBox(children=(IntProgress(value=0, max=938), HTML(value='')))"
      ]
     },
     "metadata": {},
     "output_type": "display_data"
    },
    {
     "data": {
      "image/png": "[encoded data removed]",
      "text/plain": [
       "<Figure size 1440x720 with 12 Axes>"
      ]
     },
     "metadata": {
      "needs_background": "light"
     },
     "output_type": "display_data"
    }
   ],
   "source": [
    "useDCGAN = True\n",
    "if useDCGAN == True:\n",
    "    #Initialize networks\n",
    "    d = DCGAN_D(10).to(device)\n",
    "    g = DCGAN_G(110,1).to(device)\n",
    "else:\n",
    "    #Initialize networks\n",
    "    d = D().to(device)\n",
    "    g = G().to(device)\n",
    "\n",
    "#d_opt = torch.optim.SGD(d.parameters(), 0.002, momentum=0.9)\n",
    "d_opt = torch.optim.Adam(d.parameters(), 0.0002, (0.5, 0.999))\n",
    "g_opt = torch.optim.Adam(g.parameters(), 0.0001, (0.5, 0.999))\n",
    "\n",
    "#Clean up all old variables on the GPU no longer in use\n",
    "torch.cuda.empty_cache()\n",
    "\n",
    "visualization = ipywidgets.Output()\n",
    "display.display(visualization)\n",
    "\n",
    "with visualization:\n",
    "    plt.figure(figsize=(20,10))\n",
    "subplots = [plt.subplot(2, 6, k+1) for k in range(12)]\n",
    "num_epochs = 10\n",
    "for epoch in tqdm(range(num_epochs), unit='epoch'):\n",
    "    for minibatch_no, (x, target) in tqdm(enumerate(train_loader), total=len(train_loader)):\n",
    "        label_cpu = torch.zeros((x.shape[0],10))\n",
    "        label_cpu[np.arange(x.shape[0]),target.numpy()] = 1\n",
    "        x = x.to(device)*2-1\n",
    "        x_label = label_cpu.to(device)\n",
    "        d_real = d(x)\n",
    "        \n",
    "        #Update Discriminator\n",
    "        z = torch.randn(x.shape[0], 100)\n",
    "        z_label = torch.zeros((z.shape[0],10))\n",
    "        z_combine = torch.cat((z,z_label),dim=1)\n",
    "#         print(z_combine.shape)\n",
    "        z_combine = z_combine.to(device)\n",
    "        z_label = z_label.to(device)\n",
    "        d.zero_grad()\n",
    "        with torch.no_grad(): #We don't need gradients for G when we update D\n",
    "            xhat = g(z_combine)\n",
    "        d_loss=cgan_loss_d(d_real, x_label, d(xhat), z_label)\n",
    "        d_loss.backward()\n",
    "        d_opt.step()\n",
    "\n",
    "        #Update Generator\n",
    "        z = torch.randn(x.shape[0], 100)\n",
    "        z = torch.cat((z,label_cpu),dim=1)\n",
    "        z = z.to(device)\n",
    "        g.zero_grad()\n",
    "        xhat = g(z)\n",
    "        g_loss = cgan_loss_g(d(xhat), x_label)\n",
    "        g_loss.backward()\n",
    "        g_opt.step()\n",
    "        \n",
    "        assert(not np.isnan(d_loss.item()))\n",
    "        #Plot every 100 minibatches\n",
    "        if minibatch_no % 100 == 0:\n",
    "            with torch.no_grad(), visualization:\n",
    "#                 P = torch.sigmoid(d(xhat))\n",
    "#                 P = torch.max(P,dim=1)\n",
    "#                 print(P.shape)\n",
    "                for k in range(11):\n",
    "                    xhat_k = xhat[k].cpu().squeeze()/2+.5\n",
    "                    subplots[k].imshow(xhat_k, cmap='gray')\n",
    "                    subplots[k].set_title('Label=%d' % target[k])\n",
    "                    subplots[k].axis('off')\n",
    "\n",
    "                zsample = torch.randn(batch_size, 100)\n",
    "                zsample = torch.cat((zsample,label_cpu),dim=1)\n",
    "                zsample = zsample.to(device)\n",
    "                H1 = d(g(zsample))\n",
    "                H2 = d(x)\n",
    "                \n",
    "                subplots[11].cla()\n",
    "                subplots[11].hist(H1.cpu().squeeze(), label='fake', range=(0, 1), alpha=0.5)\n",
    "                subplots[11].hist(H2.cpu().squeeze(), label='real', range=(0, 1), alpha=0.5)\n",
    "                subplots[11].legend()\n",
    "                subplots[11].set_title('Discriminator loss: %.2f' % d_loss.item())\n",
    "\n",
    "                display.display(plt.gcf())\n",
    "                display.clear_output(wait=True)\n",
    "                "
   ]
  },
  {
   "cell_type": "code",
   "execution_count": 85,
   "metadata": {},
   "outputs": [],
   "source": [
    "## save model\n",
    "def save_model(model, filename):  #save model for later plot\n",
    "    state = model.state_dict()\n",
    "    x=state.copy()\n",
    "    for key in x: \n",
    "        x[key] = x[key].clone().cpu()\n",
    "    torch.save(x, filename)\n",
    "save_model(g, './model/cgan_Generator.pkl')\n",
    "save_model(d, './model/cgan_Discriminator.pkl')\n"
   ]
  },
  {
   "cell_type": "code",
   "execution_count": 10,
   "metadata": {},
   "outputs": [],
   "source": [
    "def show(images,num_img):\n",
    "    images = 255 * (0.5 * images + 0.5)\n",
    "    images = images.astype(np.uint8)\n",
    "    plt.figure(figsize=(4, 4))\n",
    "    width = images.shape[2]\n",
    "    gs = gridspec.GridSpec(1, num_img, wspace=0, hspace=0)\n",
    "    print(images.shape)\n",
    "    for i, img in enumerate(images):\n",
    "        ax = plt.subplot(gs[i])\n",
    "        ax.set_xticklabels([])\n",
    "        ax.set_yticklabels([])\n",
    "        ax.set_aspect('equal')\n",
    "        plt.imshow(img.reshape(width, width), cmap=plt.cm.gray)\n",
    "        plt.axis('off')\n",
    "        plt.tight_layout()\n",
    "    plt.tight_layout()\n",
    "    return width\n",
    "\n",
    "def show_all(images_all,num_img):\n",
    "    x=images_all[0]\n",
    "    for i in range(1,len(images_all),1):\n",
    "        x=np.concatenate((x,images_all[i]),0)\n",
    "    print(x.shape)\n",
    "    x = 255 * (0.5 * x + 0.5)\n",
    "    x = x.astype(np.uint8)\n",
    "    plt.figure(figsize=(9, 10))\n",
    "    width = x.shape[2]\n",
    "    gs = gridspec.GridSpec(10, num_img, wspace=0, hspace=0)\n",
    "    for i, img in enumerate(x):\n",
    "        ax = plt.subplot(gs[i])\n",
    "        ax.set_xticklabels([])\n",
    "        ax.set_yticklabels([])\n",
    "        ax.set_aspect('equal')\n",
    "        plt.imshow(img.reshape(width, width), cmap=plt.cm.gray)\n",
    "        plt.axis('off')\n",
    "        plt.tight_layout()"
   ]
  },
  {
   "cell_type": "code",
   "execution_count": null,
   "metadata": {},
   "outputs": [],
   "source": [
    "d.load_state_dict(torch.load('./model/cgan_Discriminator.pkl'))\n",
    "g.load_state_dict(torch.load('./model/cgan_Generator.pkl'))\n",
    "import matplotlib.gridspec as gridspec\n",
    "\n",
    "lis=[]\n",
    "batch_size = 16\n",
    "for i in range(10):\n",
    "    z = torch.randn((batch_size, 100))\n",
    "    x = torch.zeros((batch_size,10))\n",
    "    x[:,i]=1\n",
    "    z = torch.cat((z, x),dim=1).to(device)\n",
    "    gz = g(z)\n",
    "    fake_image = gz.cpu().detach().numpy()\n",
    "    print(fake_image.shape)\n",
    "    lis.append(fake_image)\n",
    "    output = d(gz)\n",
    "    show(fake_image,batch_size)\n",
    "\n",
    "show_all(lis,batch_size)\n",
    "plt.show()"
   ]
  },
  {
   "cell_type": "markdown",
   "metadata": {},
   "source": [
    "## SVHN to MNIST"
   ]
  },
  {
   "cell_type": "code",
   "execution_count": 11,
   "metadata": {},
   "outputs": [
    {
     "name": "stdout",
     "output_type": "stream",
     "text": [
      "Using downloaded and verified file: ./data/train_32x32.mat\n"
     ]
    }
   ],
   "source": [
    "import os.path\n",
    "new_transform = transforms.Compose([transforms.Grayscale(),\n",
    "                                    transforms.Resize(28),\n",
    "                                    transforms.ToTensor()])\n",
    "# download if necessary\n",
    "if not os.path.isfile('./data/train_32x32.mat'):\n",
    "    # use as digital training set\n",
    "    svhn_train_set = datasets.SVHN('./data',split='train',download=True, \n",
    "                                   transform=new_transform)\n",
    "else:\n",
    "    svhn_train_set = datasets.SVHN('./data',split='train',download=True, \n",
    "                                   transform=new_transform)"
   ]
  },
  {
   "cell_type": "code",
   "execution_count": 12,
   "metadata": {},
   "outputs": [
    {
     "name": "stdout",
     "output_type": "stream",
     "text": [
      "73257\n",
      "8\n"
     ]
    },
    {
     "data": {
      "image/png": "[encoded data removed]",
      "text/plain": [
       "<Figure size 432x288 with 1 Axes>"
      ]
     },
     "metadata": {
      "needs_background": "light"
     },
     "output_type": "display_data"
    }
   ],
   "source": [
    "print(len(svhn_train_set))\n",
    "for image, label in svhn_train_set:\n",
    "    image = svhn_train_set[29][0].view(image.size(1),image.size(2))\n",
    "#     print(image)\n",
    "    plt.imshow(image.numpy(),cmap='gray')\n",
    "    print(svhn_train_set[29][1])\n",
    "    break"
   ]
  },
  {
   "cell_type": "code",
   "execution_count": null,
   "metadata": {},
   "outputs": [
    {
     "data": {
      "application/vnd.jupyter.widget-view+json": {
       "model_id": "e39a97fbc784442a85be2952ee6d2876",
       "version_major": 2,
       "version_minor": 0
      },
      "text/plain": [
       "Output()"
      ]
     },
     "metadata": {},
     "output_type": "display_data"
    },
    {
     "data": {
      "application/vnd.jupyter.widget-view+json": {
       "model_id": "1f1f22a740c24defae6c8effa06072f1",
       "version_major": 2,
       "version_minor": 0
      },
      "text/plain": [
       "HBox(children=(IntProgress(value=0, max=10), HTML(value='')))"
      ]
     },
     "metadata": {},
     "output_type": "display_data"
    },
    {
     "data": {
      "application/vnd.jupyter.widget-view+json": {
       "model_id": "390b9330343b4dd9a060c122f133ef08",
       "version_major": 2,
       "version_minor": 0
      },
      "text/plain": [
       "HBox(children=(IntProgress(value=0, max=938), HTML(value='')))"
      ]
     },
     "metadata": {},
     "output_type": "display_data"
    },
    {
     "data": {
      "application/vnd.jupyter.widget-view+json": {
       "model_id": "a45b7a39360e43f886dd38a3e65d7968",
       "version_major": 2,
       "version_minor": 0
      },
      "text/plain": [
       "HBox(children=(IntProgress(value=0, max=938), HTML(value='')))"
      ]
     },
     "metadata": {},
     "output_type": "display_data"
    },
    {
     "data": {
      "application/vnd.jupyter.widget-view+json": {
       "model_id": "6ac7e0f2641e4089bfa69070932d2e12",
       "version_major": 2,
       "version_minor": 0
      },
      "text/plain": [
       "HBox(children=(IntProgress(value=0, max=938), HTML(value='')))"
      ]
     },
     "metadata": {},
     "output_type": "display_data"
    }
   ],
   "source": [
    "useDCGAN = True\n",
    "if useDCGAN == True:\n",
    "    #Initialize networks\n",
    "    d = DCGAN_D(10).to(device)\n",
    "    g = DCGAN_G(28*28+10,1).to(device)\n",
    "else:\n",
    "    #Initialize networks\n",
    "    d = D().to(device)\n",
    "    g = G().to(device)\n",
    "\n",
    "#d_opt = torch.optim.SGD(d.parameters(), 0.002, momentum=0.9)\n",
    "d_opt = torch.optim.Adam(d.parameters(), 0.0002, (0.5, 0.999))\n",
    "g_opt = torch.optim.Adam(g.parameters(), 0.0001, (0.5, 0.999))\n",
    "\n",
    "#Clean up all old variables on the GPU no longer in use\n",
    "torch.cuda.empty_cache()\n",
    "\n",
    "visualization = ipywidgets.Output()\n",
    "display.display(visualization)\n",
    "\n",
    "with visualization:\n",
    "    plt.figure(figsize=(20,10))\n",
    "subplots = [plt.subplot(2, 6, k+1) for k in range(12)]\n",
    "num_epochs = 10\n",
    "for epoch in tqdm(range(num_epochs), unit='epoch'):\n",
    "    for minibatch_no, (x, target) in tqdm(enumerate(train_loader), total=len(train_loader)):\n",
    "        label_cpu = torch.zeros((x.shape[0],10))\n",
    "        label_cpu[np.arange(x.shape[0]),target.numpy()] = 1\n",
    "        x = x.to(device)*2-1\n",
    "        x_label = label_cpu.to(device)\n",
    "        x_label = x_label.view(x_label.size(0),x_label.size(1),1,1)\n",
    "        d_real = d(x)\n",
    "        \n",
    "        #Update Discriminator\n",
    "        zid = torch.randint(0, len(svhn_train_set), (x.shape[0],))\n",
    "        z = torch.zeros((x.shape[0],28*28))\n",
    "        z_label = torch.zeros((x.shape[0],10))\n",
    "        for i in range(len(zid)):\n",
    "            img = svhn_train_set[zid[i]][0]*2-1\n",
    "            z[i,:] = img.flatten()\n",
    "#             lb_id = svhn_train_set[zid[i]][1] if svhn_train_set[zid[i]][1] < 10 else 0\n",
    "#             z_label[i,lb_id] = 1\n",
    "#         print(z_label)        \n",
    "        z_combine = torch.cat((z,z_label),dim=1)\n",
    "        z_combine = z_combine.to(device)\n",
    "        \n",
    "        z_label = z_label.view(z_label.size(0),z_label.size(1),1,1)\n",
    "        z_label = z_label.to(device)\n",
    "        d.zero_grad()\n",
    "        with torch.no_grad(): #We don't need gradients for G when we update D\n",
    "            xhat = g(z_combine)\n",
    "        d_loss=cgan_loss_d(d_real, x_label, d(xhat), z_label)\n",
    "        d_loss.backward()\n",
    "        d_opt.step()\n",
    "\n",
    "        #Update Generator\n",
    "        z_label = torch.zeros((x.shape[0],10))\n",
    "        \n",
    "        for i in range(len(zid)):\n",
    "            img = svhn_train_set[zid[i]][0]*2-1\n",
    "            lb_id = svhn_train_set[zid[i]][1] if svhn_train_set[zid[i]][1] < 10 else 0\n",
    "            z_label[i,lb_id] = 1\n",
    "        \n",
    "        z = torch.cat((z,z_label),dim=1)\n",
    "        z = z.to(device)\n",
    "        z_label = z_label.view(z_label.size(0),z_label.size(1),1,1)\n",
    "        z_label = z_label.to(device)\n",
    "        \n",
    "        g.zero_grad()\n",
    "        xhat = g(z)\n",
    "        z_label = z_label.view(z_label.size(0),z_label.size(1),1,1)\n",
    "        z_label = z_label.to(device)\n",
    "        g_loss = cgan_loss_g(d(xhat), z_label)\n",
    "        g_loss.backward()\n",
    "        g_opt.step()\n",
    "        \n",
    "        assert(not np.isnan(d_loss.item()))\n",
    "        #Plot every 100 minibatches\n",
    "        if minibatch_no % 100 == 0:\n",
    "            with torch.no_grad(), visualization:\n",
    "                lbs = torch.argmax(z_label,dim=1)\n",
    "                for k in range(11):\n",
    "                    xhat_k = xhat[k].cpu().squeeze()/2+.5\n",
    "                    subplots[k].imshow(xhat_k, cmap='gray')\n",
    "                    subplots[k].set_title('Label=%d' % lbs[k])\n",
    "                    subplots[k].axis('off')\n",
    "\n",
    "#                 zsample = torch.randn(batch_size, 100)\n",
    "#                 zsample = torch.cat((zsample,label_cpu),dim=1)\n",
    "#                 zsample = zsample.to(device)\n",
    "#                 H1 = d(g(zsample))\n",
    "#                 H2 = d(x)\n",
    "                \n",
    "#                 subplots[11].cla()\n",
    "#                 subplots[11].hist(H1.cpu().squeeze(), label='fake', range=(0, 1), alpha=0.5)\n",
    "#                 subplots[11].hist(H2.cpu().squeeze(), label='real', range=(0, 1), alpha=0.5)\n",
    "#                 subplots[11].legend()\n",
    "#                 subplots[11].set_title('Discriminator loss: %.2f' % d_loss.item())\n",
    "\n",
    "                display.display(plt.gcf())\n",
    "                display.clear_output(wait=True)"
   ]
  },
  {
   "cell_type": "code",
   "execution_count": 32,
   "metadata": {},
   "outputs": [
    {
     "name": "stdout",
     "output_type": "stream",
     "text": [
      "tensor([[2, 3, 4, 3],\n",
      "        [2, 1, 2, 4],\n",
      "        [4, 1, 2, 4]])\n"
     ]
    }
   ],
   "source": [
    "a=torch.randint(1, 5, (3,4))\n",
    "print(a)"
   ]
  },
  {
   "cell_type": "code",
   "execution_count": null,
   "metadata": {},
   "outputs": [],
   "source": []
  }
 ],
 "metadata": {
  "kernelspec": {
   "display_name": "Python 3",
   "language": "python",
   "name": "python3"
  },
  "language_info": {
   "codemirror_mode": {
    "name": "ipython",
    "version": 3
   },
   "file_extension": ".py",
   "mimetype": "text/x-python",
   "name": "python",
   "nbconvert_exporter": "python",
   "pygments_lexer": "ipython3",
   "version": "3.7.3"
  }
 },
 "nbformat": 4,
 "nbformat_minor": 2
}
