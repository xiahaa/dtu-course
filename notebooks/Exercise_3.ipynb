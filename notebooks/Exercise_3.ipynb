{
 "cells": [
  {
   "cell_type": "markdown",
   "metadata": {},
   "source": [
    "# Exercise 3.1\n",
    "### Generation of MNIST digits with a GAN\n",
    "\n",
    "First we import the modules we need"
   ]
  },
  {
   "cell_type": "code",
   "execution_count": 103,
   "metadata": {},
   "outputs": [],
   "source": [
    "import numpy as np\n",
    "from tqdm import tqdm_notebook as tqdm\n",
    "import torch\n",
    "import torch.nn as nn\n",
    "import torch.nn.functional as F\n",
    "import torchvision.datasets as datasets\n",
    "from torch.utils.data import DataLoader\n",
    "import torchvision.transforms as transforms\n",
    "from IPython import display\n",
    "import matplotlib.pylab as plt\n",
    "import ipywidgets"
   ]
  },
  {
   "cell_type": "code",
   "execution_count": 104,
   "metadata": {},
   "outputs": [
    {
     "name": "stdout",
     "output_type": "stream",
     "text": [
      "The code will run on GPU. This is important so things run faster.\n"
     ]
    }
   ],
   "source": [
    "if torch.cuda.is_available():\n",
    "    print(\"The code will run on GPU. This is important so things run faster.\")\n",
    "else:\n",
    "    print(\"The code will run on CPU. You should probably not do this.\")\n",
    "device = torch.device('cuda' if torch.cuda.is_available() else 'cpu')"
   ]
  },
  {
   "cell_type": "code",
   "execution_count": 105,
   "metadata": {},
   "outputs": [],
   "source": [
    "batch_size = 64\n",
    "trainset = datasets.MNIST('./data', train=True, download=True, transform=transforms.ToTensor())\n",
    "train_loader = DataLoader(trainset, batch_size=batch_size, shuffle=True, num_workers=1)\n",
    "testset = datasets.MNIST('./data', train=False, download=True, transform=transforms.ToTensor())\n",
    "test_loader = DataLoader(testset, batch_size=batch_size, shuffle=False, num_workers=1)"
   ]
  },
  {
   "cell_type": "markdown",
   "metadata": {},
   "source": [
    "Implement your **generator** network as a fully connected neural network\n",
    "\n",
    "Start out with a network that:\n",
    "* takes as input 100 Normally distributed numbers\n",
    "* has four hidden layers with 4096 neurons\n",
    "* uses LeakyReLU as the activation function\n",
    "* uses BatchNorm\n",
    "* has Tanh as the last layer (we work with MNIST in the -1 to 1 range)"
   ]
  },
  {
   "cell_type": "code",
   "execution_count": 106,
   "metadata": {},
   "outputs": [],
   "source": [
    "class G(nn.Module):\n",
    "    def __init__(self):\n",
    "        super(G, self).__init__()\n",
    "        self.fc = nn.Sequential(\n",
    "            nn.Linear(100, 4096),\n",
    "            nn.LeakyReLU(0.1),\n",
    "            nn.BatchNorm1d(4096),\n",
    "            nn.Linear(4096,4096),\n",
    "            nn.LeakyReLU(0.1),\n",
    "            nn.BatchNorm1d(4096),\n",
    "            nn.Linear(4096,4096),\n",
    "            nn.LeakyReLU(0.1),\n",
    "            nn.BatchNorm1d(4096),\n",
    "            nn.Linear(4096,4096),\n",
    "            nn.LeakyReLU(0.1),\n",
    "            nn.BatchNorm1d(4096),\n",
    "            nn.Linear(4096,784),\n",
    "            nn.Tanh()\n",
    "        )\n",
    "        \n",
    "    def forward(self, x):\n",
    "        x = self.fc(x)\n",
    "        x = x.view(x.size(0), 1, 28, 28)\n",
    "        return x"
   ]
  },
  {
   "cell_type": "markdown",
   "metadata": {},
   "source": [
    "Implement your **discriminator** network as a fully connected neural network\n",
    "\n",
    "Start out with a network that\n",
    "* takes as input an $28\\times28$ image\n",
    "* has three hidden layers with [1024, 512, 256] neurons respectively\n",
    "* uses LeakyReLU as the activation function\n",
    "* uses Dropout\n",
    "* has Tanh as the last layer (we work with MNIST in the -1 to 1 range)"
   ]
  },
  {
   "cell_type": "code",
   "execution_count": 107,
   "metadata": {},
   "outputs": [],
   "source": [
    "class D(nn.Module):\n",
    "    def __init__(self):\n",
    "        super(D, self).__init__()       \n",
    "        self.discriminator = nn.Sequential(\n",
    "            nn.Linear(784,1024),\n",
    "            nn.LeakyReLU(0.1),\n",
    "            nn.Dropout(p=0.5),\n",
    "            nn.Linear(1024,512),\n",
    "            nn.LeakyReLU(0.1),\n",
    "            nn.Dropout(p=0.5),\n",
    "            nn.Linear(512,256),\n",
    "            nn.LeakyReLU(0.1),\n",
    "            nn.Dropout(p=0.5),\n",
    "            nn.Linear(256,1),\n",
    "            nn.Sigmoid()\n",
    "        )\n",
    "    \n",
    "    def forward(self, x):\n",
    "        x = x.view(x.size(0), -1)\n",
    "        x = self.discriminator(x)\n",
    "        return x"
   ]
  },
  {
   "cell_type": "markdown",
   "metadata": {},
   "source": [
    "## DCGAN"
   ]
  },
  {
   "cell_type": "code",
   "execution_count": 151,
   "metadata": {},
   "outputs": [],
   "source": [
    "class DCGAN_G(nn.Module):\n",
    "    def __init__(self):\n",
    "        super(DCGAN_G, self).__init__()\n",
    "        self.fc = nn.Sequential(\n",
    "            nn.ConvTranspose2d(100, 128, 3, stride=2), # 1->3\n",
    "            nn.LeakyReLU(0.1),\n",
    "            nn.BatchNorm2d(128),\n",
    "            nn.ConvTranspose2d(128, 256, 3, stride=2),# 3->7\n",
    "            nn.LeakyReLU(0.1),\n",
    "            nn.BatchNorm2d(256),\n",
    "            nn.ConvTranspose2d(256, 512, 2, stride=2),# 7->14\n",
    "            nn.LeakyReLU(0.1),\n",
    "            nn.BatchNorm2d(512),\n",
    "            nn.ConvTranspose2d(512, 1024, 2, stride=2),# 14->28\n",
    "            nn.LeakyReLU(0.1),\n",
    "            nn.BatchNorm2d(1024),\n",
    "            nn.Conv2d(1024, 1, 3, stride=1, padding = 1),\n",
    "            nn.Tanh()\n",
    "        )\n",
    "        \n",
    "    def forward(self, x):\n",
    "        x = x.view(x.size(0), x.size(1), 1, 1)\n",
    "        x = self.fc(x)\n",
    "#         x = x.view(x.size(0), 1, 28, 28)\n",
    "        return x\n",
    "\n",
    "class DCGAN_D(nn.Module):\n",
    "    def __init__(self):\n",
    "        super(DCGAN_D, self).__init__()   \n",
    "        self.cnn0 = nn.Sequential(\n",
    "            nn.Conv2d(1, 512, 3, stride = 2, padding = 1), # 28 -> 14\n",
    "            nn.LeakyReLU(0.1),\n",
    "            nn.Dropout(p=0.5)\n",
    "#             nn.BatchNorm2d(128),\n",
    "        )\n",
    "        \n",
    "        self.cnn1 = nn.Sequential(\n",
    "            nn.Conv2d(512,256,3, stride = 2, padding = 1), # 14-> 7\n",
    "            nn.LeakyReLU(0.1),\n",
    "            nn.Dropout(p=0.5)\n",
    "#             nn.BatchNorm2d(256)\n",
    "        )\n",
    "        \n",
    "        self.cnn2 = nn.Sequential(\n",
    "            nn.Conv2d(256,128,7, stride = 1, padding = 0), # 7 -> 1\n",
    "            nn.LeakyReLU(0.1),\n",
    "            nn.Dropout(p=0.5)\n",
    "#             nn.BatchNorm2d(512)\n",
    "        )\n",
    "        \n",
    "        self.discriminator = nn.Sequential(\n",
    "            nn.Conv2d(128,1,1, stride = 1, padding = 0), # 1 -> 1\n",
    "            nn.Sigmoid()\n",
    "        )\n",
    "    \n",
    "    def forward(self, x):\n",
    "        x = self.cnn0(x)\n",
    "        x = self.cnn1(x)\n",
    "        x = self.cnn2(x)\n",
    "        x = self.discriminator(x)\n",
    "        return x"
   ]
  },
  {
   "cell_type": "markdown",
   "metadata": {},
   "source": [
    "## Loss Function Section"
   ]
  },
  {
   "cell_type": "code",
   "execution_count": 152,
   "metadata": {},
   "outputs": [],
   "source": [
    "def vanilla_loss_d(dx, dz):    \n",
    "    ## dx dz have passed sigmoid, range from 0 to 1\n",
    "    return -(torch.mean(torch.log(dx)) + torch.mean(torch.log(1-dz)))\n",
    "#     return torch.mean(-dx + torch.log(torch.exp(dx)+1)+torch.log(torch.exp(dz)+1))\n",
    "\n",
    "def vanilla_loss_g(dz):\n",
    "    ## dx dz have passed sigmoid, range from 0 to 1\n",
    "    return -torch.mean(torch.log(dz))\n",
    "#     return torch.mean(torch.log(torch.exp(-dz)+1))"
   ]
  },
  {
   "cell_type": "code",
   "execution_count": 153,
   "metadata": {},
   "outputs": [],
   "source": [
    "def wgan_loss_d(dx, dz):\n",
    "    return -(torch.mean(dx) - torch.mean(dz))\n",
    "\n",
    "def lsgan_loss_d(dx, dz):\n",
    "    b = 1\n",
    "    return 0.5*torch.mean((dx - b)**2)+0.5*torch.mean((dz)**2)\n",
    "\n",
    "def lsgan_loss_g(dz):\n",
    "    c = 1\n",
    "    return 0.5*torch.mean((dz-c)**2)"
   ]
  },
  {
   "cell_type": "code",
   "execution_count": null,
   "metadata": {},
   "outputs": [],
   "source": [
    "def cgan_loss_d(dx, dz, target):\n",
    "    ## use soft-max\n",
    "    \n",
    "    pass\n",
    "\n",
    "def cgan_loss_g(dz, y):\n",
    "    pass"
   ]
  },
  {
   "cell_type": "code",
   "execution_count": 154,
   "metadata": {
    "scrolled": true
   },
   "outputs": [
    {
     "data": {
      "application/vnd.jupyter.widget-view+json": {
       "model_id": "f710e1ca908a441b949f241035976716",
       "version_major": 2,
       "version_minor": 0
      },
      "text/plain": [
       "Output()"
      ]
     },
     "metadata": {},
     "output_type": "display_data"
    },
    {
     "data": {
      "application/vnd.jupyter.widget-view+json": {
       "model_id": "29991954ba6a4201b3d4405ddd863564",
       "version_major": 2,
       "version_minor": 0
      },
      "text/plain": [
       "HBox(children=(IntProgress(value=0, max=10), HTML(value='')))"
      ]
     },
     "metadata": {},
     "output_type": "display_data"
    },
    {
     "data": {
      "application/vnd.jupyter.widget-view+json": {
       "model_id": "0d91a159af0e468dbf33ebdad659b745",
       "version_major": 2,
       "version_minor": 0
      },
      "text/plain": [
       "HBox(children=(IntProgress(value=0, max=938), HTML(value='')))"
      ]
     },
     "metadata": {},
     "output_type": "display_data"
    },
    {
     "data": {
      "application/vnd.jupyter.widget-view+json": {
       "model_id": "513fd12456534f3481204e654efe5fa1",
       "version_major": 2,
       "version_minor": 0
      },
      "text/plain": [
       "HBox(children=(IntProgress(value=0, max=938), HTML(value='')))"
      ]
     },
     "metadata": {},
     "output_type": "display_data"
    },
    {
     "data": {
      "application/vnd.jupyter.widget-view+json": {
       "model_id": "b3a3779af8104961b1c3e3ccd130e9d2",
       "version_major": 2,
       "version_minor": 0
      },
      "text/plain": [
       "HBox(children=(IntProgress(value=0, max=938), HTML(value='')))"
      ]
     },
     "metadata": {},
     "output_type": "display_data"
    },
    {
     "data": {
      "application/vnd.jupyter.widget-view+json": {
       "model_id": "b5bf08968d574278ba7c592428ec99b6",
       "version_major": 2,
       "version_minor": 0
      },
      "text/plain": [
       "HBox(children=(IntProgress(value=0, max=938), HTML(value='')))"
      ]
     },
     "metadata": {},
     "output_type": "display_data"
    },
    {
     "data": {
      "application/vnd.jupyter.widget-view+json": {
       "model_id": "9666579371494ac7b23577c5c38f9afe",
       "version_major": 2,
       "version_minor": 0
      },
      "text/plain": [
       "HBox(children=(IntProgress(value=0, max=938), HTML(value='')))"
      ]
     },
     "metadata": {},
     "output_type": "display_data"
    },
    {
     "data": {
      "application/vnd.jupyter.widget-view+json": {
       "model_id": "f5dce8e8e7264090a139620543679061",
       "version_major": 2,
       "version_minor": 0
      },
      "text/plain": [
       "HBox(children=(IntProgress(value=0, max=938), HTML(value='')))"
      ]
     },
     "metadata": {},
     "output_type": "display_data"
    },
    {
     "data": {
      "application/vnd.jupyter.widget-view+json": {
       "model_id": "6dc4465b40544555b3f69e4686d3d252",
       "version_major": 2,
       "version_minor": 0
      },
      "text/plain": [
       "HBox(children=(IntProgress(value=0, max=938), HTML(value='')))"
      ]
     },
     "metadata": {},
     "output_type": "display_data"
    },
    {
     "data": {
      "application/vnd.jupyter.widget-view+json": {
       "model_id": "62e85e7372554bcfab18e0cf00e065d6",
       "version_major": 2,
       "version_minor": 0
      },
      "text/plain": [
       "HBox(children=(IntProgress(value=0, max=938), HTML(value='')))"
      ]
     },
     "metadata": {},
     "output_type": "display_data"
    },
    {
     "data": {
      "application/vnd.jupyter.widget-view+json": {
       "model_id": "92f3f4e8558d418896570f980906e99d",
       "version_major": 2,
       "version_minor": 0
      },
      "text/plain": [
       "HBox(children=(IntProgress(value=0, max=938), HTML(value='')))"
      ]
     },
     "metadata": {},
     "output_type": "display_data"
    },
    {
     "data": {
      "application/vnd.jupyter.widget-view+json": {
       "model_id": "8b27d9efb1d6481c90abf04b4de261fd",
       "version_major": 2,
       "version_minor": 0
      },
      "text/plain": [
       "HBox(children=(IntProgress(value=0, max=938), HTML(value='')))"
      ]
     },
     "metadata": {},
     "output_type": "display_data"
    },
    {
     "data": {
      "image/png": "[encoded data removed]",
      "text/plain": [
       "<Figure size 1440x720 with 12 Axes>"
      ]
     },
     "metadata": {
      "needs_background": "light"
     },
     "output_type": "display_data"
    }
   ],
   "source": [
    "useDCGAN = True\n",
    "if useDCGAN == True:\n",
    "    #Initialize networks\n",
    "    d = DCGAN_D().to(device)\n",
    "    g = DCGAN_G().to(device)\n",
    "else:\n",
    "    #Initialize networks\n",
    "    d = D().to(device)\n",
    "    g = G().to(device)\n",
    "\n",
    "\n",
    "losstype = 1\n",
    "if losstype == 1:\n",
    "    cost_d = lsgan_loss_d\n",
    "    cost_g = lsgan_loss_g\n",
    "elif losstype == 2:\n",
    "    cost_d = vanilla_loss_d\n",
    "    cost_g = vanilla_loss_g\n",
    "\n",
    "#d_opt = torch.optim.SGD(d.parameters(), 0.002, momentum=0.9)\n",
    "d_opt = torch.optim.Adam(d.parameters(), 0.0002, (0.5, 0.999))\n",
    "g_opt = torch.optim.Adam(g.parameters(), 0.0001, (0.5, 0.999))\n",
    "\n",
    "#Clean up all old variables on the GPU no longer in use\n",
    "torch.cuda.empty_cache()\n",
    "\n",
    "visualization = ipywidgets.Output()\n",
    "display.display(visualization)\n",
    "\n",
    "with visualization:\n",
    "    plt.figure(figsize=(20,10))\n",
    "subplots = [plt.subplot(2, 6, k+1) for k in range(12)]\n",
    "num_epochs = 10\n",
    "for epoch in tqdm(range(num_epochs), unit='epoch'):\n",
    "    for minibatch_no, (x, target) in tqdm(enumerate(train_loader), total=len(train_loader)):\n",
    "        x = x.to(device)*2-1\n",
    "        \n",
    "        #Update Discriminator\n",
    "        z = torch.randn(x.shape[0], 100).to(device)\n",
    "        d.zero_grad()\n",
    "        with torch.no_grad(): #We don't need gradients for G when we update D\n",
    "            xhat = g(z)\n",
    "        d_loss=cost_d(d(x), d(xhat))\n",
    "        \n",
    "        d_loss.backward()\n",
    "        d_opt.step()\n",
    "\n",
    "        #Update Generator\n",
    "        z = torch.randn(batch_size, 100).cuda()\n",
    "        g.zero_grad()\n",
    "        xhat = g(z)\n",
    "        g_loss = cost_g(d(xhat))\n",
    "        g_loss.backward()\n",
    "        g_opt.step()\n",
    "        \n",
    "        assert(not np.isnan(d_loss.item()))\n",
    "        #Plot every 100 minibatches\n",
    "        if minibatch_no % 100 == 0:\n",
    "            with torch.no_grad(), visualization:\n",
    "                P = (d(xhat))\n",
    "                for k in range(11):\n",
    "                    xhat_k = xhat[k].cpu().squeeze()/2+.5\n",
    "                    subplots[k].imshow(xhat_k, cmap='gray')\n",
    "                    subplots[k].set_title('P=%.2f' % P[k])\n",
    "                    subplots[k].axis('off')\n",
    "\n",
    "                H1 = d(g(torch.randn(batch_size, 100).to(device)))\n",
    "                H2 = d(x)\n",
    "               \n",
    "                subplots[11].cla()\n",
    "                subplots[11].hist(H1.cpu().squeeze(), label='fake', range=(0, 1), alpha=0.5)\n",
    "                subplots[11].hist(H2.cpu().squeeze(), label='real', range=(0, 1), alpha=0.5)\n",
    "                subplots[11].legend()\n",
    "                subplots[11].set_title('Discriminator loss: %.2f' % d_loss.item())\n",
    "\n",
    "                display.display(plt.gcf())\n",
    "                display.clear_output(wait=True)\n",
    "                "
   ]
  },
  {
   "cell_type": "markdown",
   "metadata": {},
   "source": [
    "Did you get a model to generate nice images?\n",
    "Consider these\n",
    "# Additional tasks\n",
    "* Implement another loss - **done**\n",
    "* Convert your network to a DCGAN - **done**\n",
    "* Generate images from FashionMNIST\n",
    "* Convert your architecture into a cGAN\n",
    "* Hard: Create a cGAN model to convert from SVHN to MNIST"
   ]
  },
  {
   "cell_type": "code",
   "execution_count": 16,
   "metadata": {},
   "outputs": [
    {
     "name": "stdout",
     "output_type": "stream",
     "text": [
      "-1.6094379124341003\n"
     ]
    }
   ],
   "source": [
    "print(np.log(0.2))"
   ]
  },
  {
   "cell_type": "markdown",
   "metadata": {},
   "source": [
    "## FashionMNIST\n",
    "\n",
    "### my initial implementation: hope it will work."
   ]
  },
  {
   "cell_type": "code",
   "execution_count": 155,
   "metadata": {},
   "outputs": [
    {
     "name": "stderr",
     "output_type": "stream",
     "text": [
      "\r",
      "0it [00:00, ?it/s]"
     ]
    },
    {
     "name": "stdout",
     "output_type": "stream",
     "text": [
      "Downloading http://fashion-mnist.s3-website.eu-central-1.amazonaws.com/train-images-idx3-ubyte.gz to ./data/FashionMNIST/raw/train-images-idx3-ubyte.gz\n"
     ]
    },
    {
     "name": "stderr",
     "output_type": "stream",
     "text": [
      "26427392it [00:01, 16751574.62it/s]                              \n"
     ]
    },
    {
     "name": "stdout",
     "output_type": "stream",
     "text": [
      "Extracting ./data/FashionMNIST/raw/train-images-idx3-ubyte.gz\n"
     ]
    },
    {
     "name": "stderr",
     "output_type": "stream",
     "text": [
      "32768it [00:00, 357929.79it/s]\n",
      "0it [00:00, ?it/s]"
     ]
    },
    {
     "name": "stdout",
     "output_type": "stream",
     "text": [
      "Downloading http://fashion-mnist.s3-website.eu-central-1.amazonaws.com/train-labels-idx1-ubyte.gz to ./data/FashionMNIST/raw/train-labels-idx1-ubyte.gz\n",
      "Extracting ./data/FashionMNIST/raw/train-labels-idx1-ubyte.gz\n",
      "Downloading http://fashion-mnist.s3-website.eu-central-1.amazonaws.com/t10k-images-idx3-ubyte.gz to ./data/FashionMNIST/raw/t10k-images-idx3-ubyte.gz\n"
     ]
    },
    {
     "name": "stderr",
     "output_type": "stream",
     "text": [
      "4423680it [00:00, 11086137.57it/s]                           \n",
      "0it [00:00, ?it/s]"
     ]
    },
    {
     "name": "stdout",
     "output_type": "stream",
     "text": [
      "Extracting ./data/FashionMNIST/raw/t10k-images-idx3-ubyte.gz\n",
      "Downloading http://fashion-mnist.s3-website.eu-central-1.amazonaws.com/t10k-labels-idx1-ubyte.gz to ./data/FashionMNIST/raw/t10k-labels-idx1-ubyte.gz\n"
     ]
    },
    {
     "name": "stderr",
     "output_type": "stream",
     "text": [
      "8192it [00:00, 118741.45it/s]\n"
     ]
    },
    {
     "name": "stdout",
     "output_type": "stream",
     "text": [
      "Extracting ./data/FashionMNIST/raw/t10k-labels-idx1-ubyte.gz\n",
      "Processing...\n",
      "Done!\n"
     ]
    }
   ],
   "source": [
    "# download\n",
    "batch_size = 64\n",
    "fashion_trainset = datasets.FashionMNIST('./data', train=True, download=True, \n",
    "                                         transform=transforms.ToTensor())\n",
    "fashion_train_loader = DataLoader(fashion_trainset, \n",
    "                                  batch_size=batch_size, \n",
    "                                  shuffle=True, num_workers=1)\n",
    "fashion_testset = datasets.FashionMNIST('./data', train=False, download=True, \n",
    "                                        transform=transforms.ToTensor())\n",
    "fashion_test_loader = DataLoader(fashion_trainset, \n",
    "                                 batch_size=batch_size, \n",
    "                                 shuffle=False, num_workers=1)\n"
   ]
  },
  {
   "cell_type": "code",
   "execution_count": 156,
   "metadata": {},
   "outputs": [
    {
     "name": "stdout",
     "output_type": "stream",
     "text": [
      "The code will run on GPU. This is important so things run faster.\n"
     ]
    }
   ],
   "source": [
    "if torch.cuda.is_available():\n",
    "    print(\"The code will run on GPU. This is important so things run faster.\")\n",
    "else:\n",
    "    print(\"The code will run on CPU. You should probably not do this.\")\n",
    "device = torch.device('cuda' if torch.cuda.is_available() else 'cpu')\n"
   ]
  },
  {
   "cell_type": "code",
   "execution_count": null,
   "metadata": {},
   "outputs": [
    {
     "data": {
      "application/vnd.jupyter.widget-view+json": {
       "model_id": "32900dd20c9f41e2941369b67a72317a",
       "version_major": 2,
       "version_minor": 0
      },
      "text/plain": [
       "Output()"
      ]
     },
     "metadata": {},
     "output_type": "display_data"
    },
    {
     "data": {
      "application/vnd.jupyter.widget-view+json": {
       "model_id": "62e811e7492a4426955d49035955bad2",
       "version_major": 2,
       "version_minor": 0
      },
      "text/plain": [
       "HBox(children=(IntProgress(value=0, max=10), HTML(value='')))"
      ]
     },
     "metadata": {},
     "output_type": "display_data"
    },
    {
     "data": {
      "application/vnd.jupyter.widget-view+json": {
       "model_id": "de74088b27f1453d8aacece2277ab922",
       "version_major": 2,
       "version_minor": 0
      },
      "text/plain": [
       "HBox(children=(IntProgress(value=0, max=938), HTML(value='')))"
      ]
     },
     "metadata": {},
     "output_type": "display_data"
    },
    {
     "data": {
      "application/vnd.jupyter.widget-view+json": {
       "model_id": "2a23228f6b7c491cbd3eaf1f9a6e9fc1",
       "version_major": 2,
       "version_minor": 0
      },
      "text/plain": [
       "HBox(children=(IntProgress(value=0, max=938), HTML(value='')))"
      ]
     },
     "metadata": {},
     "output_type": "display_data"
    },
    {
     "data": {
      "application/vnd.jupyter.widget-view+json": {
       "model_id": "edebc01f0097476a95743e870f2b2b14",
       "version_major": 2,
       "version_minor": 0
      },
      "text/plain": [
       "HBox(children=(IntProgress(value=0, max=938), HTML(value='')))"
      ]
     },
     "metadata": {},
     "output_type": "display_data"
    }
   ],
   "source": [
    "useDCGAN = True\n",
    "if useDCGAN == True:\n",
    "    #Initialize networks\n",
    "    d = DCGAN_D().to(device)\n",
    "    g = DCGAN_G().to(device)\n",
    "else:\n",
    "    #Initialize networks\n",
    "    d = D().to(device)\n",
    "    g = G().to(device)\n",
    "    \n",
    "\n",
    "losstype = 1\n",
    "if losstype == 1:\n",
    "    cost_d = lsgan_loss_d\n",
    "    cost_g = lsgan_loss_g\n",
    "elif losstype == 2:\n",
    "    cost_d = vanilla_loss_d\n",
    "    cost_g = vanilla_loss_g\n",
    "\n",
    "#d_opt = torch.optim.SGD(d.parameters(), 0.002, momentum=0.9)\n",
    "d_opt = torch.optim.Adam(d.parameters(), 0.0002, (0.5, 0.999))\n",
    "g_opt = torch.optim.Adam(g.parameters(), 0.0001, (0.5, 0.999))\n",
    "\n",
    "#Clean up all old variables on the GPU no longer in use\n",
    "torch.cuda.empty_cache()\n",
    "\n",
    "visualization = ipywidgets.Output()\n",
    "display.display(visualization)\n",
    "\n",
    "with visualization:\n",
    "    plt.figure(figsize=(20,10))\n",
    "subplots = [plt.subplot(2, 6, k+1) for k in range(12)]\n",
    "num_epochs = 10\n",
    "for epoch in tqdm(range(num_epochs), unit='epoch'):\n",
    "    for minibatch_no, (x, target) in tqdm(enumerate(fashion_train_loader), total=len(fashion_train_loader)):\n",
    "        x = x.to(device)*2-1\n",
    "        \n",
    "        #Update Discriminator\n",
    "        z = torch.randn(x.shape[0], 100).to(device)\n",
    "        d.zero_grad()\n",
    "        with torch.no_grad(): #We don't need gradients for G when we update D\n",
    "            xhat = g(z)\n",
    "        d_loss=cost_d(d(x), d(xhat))\n",
    "        \n",
    "        d_loss.backward()\n",
    "        d_opt.step()\n",
    "\n",
    "        #Update Generator\n",
    "        z = torch.randn(batch_size, 100).cuda()\n",
    "        g.zero_grad()\n",
    "        xhat = g(z)\n",
    "        g_loss = cost_g(d(xhat))\n",
    "        g_loss.backward()\n",
    "        g_opt.step()\n",
    "        \n",
    "        assert(not np.isnan(d_loss.item()))\n",
    "        #Plot every 100 minibatches\n",
    "        if minibatch_no % 100 == 0:\n",
    "            with torch.no_grad(), visualization:\n",
    "                P = (d(xhat))\n",
    "                for k in range(11):\n",
    "                    xhat_k = xhat[k].cpu().squeeze()/2+.5\n",
    "                    subplots[k].imshow(xhat_k, cmap='gray')\n",
    "                    subplots[k].set_title('P=%.2f' % P[k])\n",
    "                    subplots[k].axis('off')\n",
    "\n",
    "                H1 = d(g(torch.randn(batch_size, 100).to(device)))\n",
    "                H2 = d(x)\n",
    "               \n",
    "                subplots[11].cla()\n",
    "                subplots[11].hist(H1.cpu().squeeze(), label='fake', range=(0, 1), alpha=0.5)\n",
    "                subplots[11].hist(H2.cpu().squeeze(), label='real', range=(0, 1), alpha=0.5)\n",
    "                subplots[11].legend()\n",
    "                subplots[11].set_title('Discriminator loss: %.2f' % d_loss.item())\n",
    "\n",
    "                display.display(plt.gcf())\n",
    "                display.clear_output(wait=True)\n",
    "                "
   ]
  },
  {
   "cell_type": "code",
   "execution_count": null,
   "metadata": {},
   "outputs": [],
   "source": []
  }
 ],
 "metadata": {
  "kernelspec": {
   "display_name": "Python 3",
   "language": "python",
   "name": "python3"
  }
 },
 "nbformat": 4,
 "nbformat_minor": 2
}
