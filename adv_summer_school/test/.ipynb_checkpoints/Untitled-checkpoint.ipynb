{
 "cells": [
  {
   "cell_type": "code",
   "execution_count": 1,
   "metadata": {},
   "outputs": [],
   "source": [
    "import numpy as np\n",
    "from tqdm import tqdm_notebook as tqdm\n",
    "import torch\n",
    "import torch.nn as nn\n",
    "import torch.nn.functional as F\n",
    "import torchvision.datasets as datasets\n",
    "import torch.utils.data as Data\n",
    "from torch.utils.data import DataLoader\n",
    "import torchvision.transforms as transforms\n",
    "from IPython import display\n",
    "import matplotlib.pylab as plt\n",
    "import ipywidgets\n",
    "import glob\n",
    "import os\n",
    "import PIL.Image as Image"
   ]
  },
  {
   "cell_type": "code",
   "execution_count": 2,
   "metadata": {},
   "outputs": [],
   "source": [
    "# download if necessary\n",
    "train_set = datasets.MNIST('./data',train=True,download=True,transform=transforms.ToTensor())\n",
    "test_set = datasets.MNIST('./data',train=False,download=True,transform=transforms.ToTensor())"
   ]
  },
  {
   "cell_type": "code",
   "execution_count": 31,
   "metadata": {},
   "outputs": [],
   "source": [
    "def color_mnist(data_set):\n",
    "    data_set_c = np.zeros([len(data_set),28,28,3],dtype=np.float32)\n",
    "    lbs = np.zeros([len(data_set),1],dtype=np.float64)\n",
    "    for idx, (x, y) in zip(range(len(data_set)),data_set):\n",
    "        x = x.numpy().transpose(1,2,0).reshape(28,28,1)\n",
    "        # colorize\n",
    "        xr = np.zeros_like(x)\n",
    "        xb = np.zeros_like(x)\n",
    "        xg = np.zeros_like(x)\n",
    "        # threshold\n",
    "        xbin = x > 0.5\n",
    "        xr[xbin]=cmap[y,0]\n",
    "        xb[xbin]=cmap[y,1]\n",
    "        xg[xbin]=cmap[y,2]\n",
    "        xc = np.concatenate([xr,xg,xb],axis=2)\n",
    "        data_set_c[idx,:]=xc\n",
    "        lbs[idx] = y\n",
    "    return data_set_c, lbs"
   ]
  },
  {
   "cell_type": "code",
   "execution_count": 32,
   "metadata": {},
   "outputs": [],
   "source": [
    "# preprocessing\n",
    "cmap = np.array([[0, 0, 2/3],\n",
    "        [0, 0, 1],\n",
    "        [0, 1/3, 1],\n",
    "        [0, 2/3, 1],\n",
    "        [0, 1, 1],\n",
    "        [1/3,1,2/3],\n",
    "        [2/3,1,1/3],\n",
    "        [1,1,0],\n",
    "        [1,2/3,0],\n",
    "        [1,1/3,0]])\n",
    "\n",
    "biased_train_set, train_labels = color_mnist(train_set)\n",
    "biased_test_set, test_labels = color_mnist(test_set)\n"
   ]
  },
  {
   "cell_type": "code",
   "execution_count": 33,
   "metadata": {},
   "outputs": [
    {
     "name": "stdout",
     "output_type": "stream",
     "text": [
      "(60000, 3, 28, 28)\n"
     ]
    }
   ],
   "source": [
    "batch_size = 64\n",
    "biased_train_set = biased_train_set.swapaxes(3,1)\n",
    "print(biased_train_set.shape)\n",
    "torch_dataset = Data.TensorDataset(torch.tensor(biased_train_set), torch.tensor(train_labels))\n",
    "\n",
    "train_loader = DataLoader(torch_dataset, batch_size=batch_size, shuffle=True, num_workers=3)\n",
    "#test_loader = DataLoader(list(zip(np.rollaxis(biased_test_set, 3, 1), test_labels)), batch_size=batch_size, shuffle=False, num_workers=3)\n"
   ]
  },
  {
   "cell_type": "code",
   "execution_count": 34,
   "metadata": {},
   "outputs": [
    {
     "name": "stdout",
     "output_type": "stream",
     "text": [
      "torch.float64\n"
     ]
    },
    {
     "data": {
      "image/png": "[encoded data removed]",
      "text/plain": [
       "<Figure size 1440x720 with 16 Axes>"
      ]
     },
     "metadata": {},
     "output_type": "display_data"
    }
   ],
   "source": [
    "# show some image\n",
    "images, labels = next(iter(train_loader))\n",
    "print(labels.dtype)\n",
    "plt.figure(figsize=(20,10))\n",
    "label_name = ['0','1','2','3','4','5','6','7','8','9']\n",
    "for i in range(16):\n",
    "    plt.subplot(4,4,i+1)\n",
    "    plt.imshow(np.swapaxes(images[i].numpy(), 0, 2))\n",
    "    #print(labels[i].item())\n",
    "    plt.title(label_name[int(labels[i].item())])\n",
    "    plt.axis('off')"
   ]
  },
  {
   "cell_type": "code",
   "execution_count": 35,
   "metadata": {},
   "outputs": [
    {
     "name": "stdout",
     "output_type": "stream",
     "text": [
      "The code will run on CPU. You should probably not do this.\n"
     ]
    }
   ],
   "source": [
    "if torch.cuda.is_available():\n",
    "    print(\"The code will run on GPU. This is important so things run faster.\")\n",
    "else:\n",
    "    print(\"The code will run on CPU. You should probably not do this.\")\n",
    "device = torch.device('cuda' if torch.cuda.is_available() else 'cpu')"
   ]
  },
  {
   "cell_type": "code",
   "execution_count": 36,
   "metadata": {},
   "outputs": [],
   "source": [
    "class GAN_G(nn.Module):\n",
    "    def __init__(self, input_features, output_features):\n",
    "        super(GAN_G, self).__init__()\n",
    "        self.fc = nn.Sequential(\n",
    "            nn.ConvTranspose2d(input_features, 512, 3, stride=2), # 1->3\n",
    "            nn.LeakyReLU(0.1),\n",
    "            nn.BatchNorm2d(512),\n",
    "            nn.ConvTranspose2d(512, 256, 3, stride=2),# 3->7\n",
    "            nn.LeakyReLU(0.1),\n",
    "            nn.BatchNorm2d(256),\n",
    "            nn.ConvTranspose2d(256, 128, 2, stride=2),# 7->14\n",
    "            nn.LeakyReLU(0.1),\n",
    "            nn.BatchNorm2d(128),\n",
    "            nn.ConvTranspose2d(128, 64, 2, stride=2),# 14->28\n",
    "            nn.LeakyReLU(0.1),\n",
    "            nn.BatchNorm2d(64),\n",
    "            nn.Conv2d(64, output_features, 3, stride=1, padding = 1),\n",
    "            nn.Tanh()\n",
    "        )\n",
    "        \n",
    "    def forward(self, x):\n",
    "        x = x.view(x.size(0), x.size(1), 1, 1)\n",
    "#         print(x.shape)\n",
    "        x = self.fc(x)\n",
    "#         x = x.view(x.size(0), 1, 28, 28)\n",
    "        return x"
   ]
  },
  {
   "cell_type": "code",
   "execution_count": 37,
   "metadata": {},
   "outputs": [],
   "source": [
    "class GAN_D(nn.Module):\n",
    "    def __init__(self, input_features, output_features):\n",
    "        super(GAN_D, self).__init__()   \n",
    "        self.cnn0 = nn.Sequential(\n",
    "            nn.Conv2d(3, 128, 3, stride = 2, padding = 1), # 28 -> 14\n",
    "            nn.LeakyReLU(0.1),\n",
    "            nn.Dropout(p=0.5)\n",
    "#             nn.BatchNorm2d(128),\n",
    "        )\n",
    "        \n",
    "        self.cnn1 = nn.Sequential(\n",
    "            nn.Conv2d(128,256,3, stride = 2, padding = 1), # 14-> 7\n",
    "            nn.LeakyReLU(0.1),\n",
    "            nn.Dropout(p=0.5)\n",
    "#             nn.BatchNorm2d(256)\n",
    "        )\n",
    "        \n",
    "        self.cnn2 = nn.Sequential(\n",
    "            nn.Conv2d(256,512,7, stride = 1, padding = 0), # 7 -> 1\n",
    "            nn.LeakyReLU(0.1),\n",
    "            nn.Dropout(p=0.5)\n",
    "#             nn.BatchNorm2d(512)\n",
    "        )\n",
    "        \n",
    "        self.discriminator = nn.Sequential(\n",
    "            nn.Conv2d(512,output_features,1, stride = 1, padding = 0), # 1 -> 1\n",
    "#             nn.Sigmoid()\n",
    "        )\n",
    "    \n",
    "    def forward(self, x):\n",
    "        x = self.cnn0(x)\n",
    "        x = self.cnn1(x)\n",
    "        x = self.cnn2(x)\n",
    "        x = self.discriminator(x)\n",
    "        return x"
   ]
  },
  {
   "cell_type": "code",
   "execution_count": 38,
   "metadata": {},
   "outputs": [],
   "source": [
    "loss = nn.BCELoss()\n",
    "def cgan_loss_d(d_real, x_label, d_xhat, z_label):\n",
    "    ## use soft-max\n",
    "    d_real = torch.sigmoid(d_real)\n",
    "    d_xhat = torch.sigmoid(d_xhat)\n",
    "    return loss(d_real,x_label)+loss(d_xhat,z_label)\n",
    "    \n",
    "\n",
    "def cgan_loss_g(d_xhat, z_label):\n",
    "    d_xhat = torch.sigmoid(d_xhat)\n",
    "    return loss(d_xhat,z_label)"
   ]
  },
  {
   "cell_type": "code",
   "execution_count": 41,
   "metadata": {},
   "outputs": [],
   "source": [
    "#Initialize networks\n",
    "d = GAN_D(3,10).to(device)\n",
    "g = GAN_G(110,3).to(device)\n",
    "d_opt = torch.optim.Adam(d.parameters(), 0.0002, (0.5, 0.999))\n",
    "g_opt = torch.optim.Adam(g.parameters(), 0.0001, (0.5, 0.999))"
   ]
  },
  {
   "cell_type": "code",
   "execution_count": null,
   "metadata": {},
   "outputs": [],
   "source": []
  },
  {
   "cell_type": "code",
   "execution_count": 45,
   "metadata": {},
   "outputs": [
    {
     "ename": "SyntaxError",
     "evalue": "invalid syntax (<ipython-input-45-58cdf57e1a5f>, line 52)",
     "output_type": "error",
     "traceback": [
      "\u001b[1;36m  File \u001b[1;32m\"<ipython-input-45-58cdf57e1a5f>\"\u001b[1;36m, line \u001b[1;32m52\u001b[0m\n\u001b[1;33m    img = np.swapaxes(xhat_k.numpy(), 0, 2))\u001b[0m\n\u001b[1;37m                                           ^\u001b[0m\n\u001b[1;31mSyntaxError\u001b[0m\u001b[1;31m:\u001b[0m invalid syntax\n"
     ]
    }
   ],
   "source": [
    "visualization = ipywidgets.Output()\n",
    "display.display(visualization)\n",
    "\n",
    "with visualization:\n",
    "    plt.figure(figsize=(20,10))\n",
    "subplots = [plt.subplot(2, 6, k+1) for k in range(12)]\n",
    "num_epochs = 10\n",
    "for epoch in tqdm(range(num_epochs), unit='epoch'):\n",
    "    for minibatch_no, (x, target) in tqdm(enumerate(train_loader), total=len(train_loader)):\n",
    "        label_cpu = torch.zeros((x.shape[0],10))\n",
    "#         print(target.numpy())\n",
    "        label_cpu[np.arange(x.shape[0]),target.numpy()] = 1\n",
    "        x = x.to(device)*2-1\n",
    "        x_label = label_cpu.to(device)\n",
    "#         print(x.shape)\n",
    "        d_real = d(x)\n",
    "        \n",
    "        #Update Discriminator\n",
    "        z = torch.randn(x.shape[0], 100)\n",
    "        z_label = torch.zeros((z.shape[0],10))\n",
    "        random_id = torch.randint(0,10,(z.shape[0],))\n",
    "        z_label_gen = torch.zeros((z.shape[0],10))\n",
    "        z_label_gen[np.arange(x.shape[0]),random_id.numpy()]=1\n",
    "#         print(z_label_gen)\n",
    "        z_combine = torch.cat((z,z_label_gen),dim=1)\n",
    "#         print(z_combine.shape)\n",
    "        z_combine = z_combine.to(device)\n",
    "        z_label = z_label.to(device)\n",
    "        d.zero_grad()\n",
    "        with torch.no_grad(): #We don't need gradients for G when we update D\n",
    "            xhat = g(z_combine)\n",
    "        d_loss=cgan_loss_d(d_real, x_label, d(xhat), z_label)\n",
    "        d_loss.backward()\n",
    "        d_opt.step()\n",
    "\n",
    "        #Update Generator\n",
    "        z = torch.randn(x.shape[0], 100)\n",
    "        z = torch.cat((z,label_cpu),dim=1)\n",
    "        z = z.to(device)\n",
    "        g.zero_grad()\n",
    "        xhat = g(z)\n",
    "        g_loss = cgan_loss_g(d(xhat), x_label)\n",
    "        g_loss.backward()\n",
    "        g_opt.step()\n",
    "        \n",
    "        assert(not np.isnan(d_loss.item()))\n",
    "        #Plot every 100 minibatches\n",
    "        if minibatch_no % 100 == 0:\n",
    "            with torch.no_grad(), visualization:\n",
    "                for k in range(11):\n",
    "                    xhat_k = xhat[k].cpu().squeeze()/2+.5\n",
    "                    img = np.swapaxes(xhat_k.numpy(), 0, 2)\n",
    "                    subplots[k].imshow(img)\n",
    "                    subplots[k].set_title('Label=%d' % target[k])\n",
    "                    subplots[k].axis('off')\n",
    "                    zsample = torch.randn(batch_size, 100)\n",
    "                    zsample = torch.cat((zsample,label_cpu),dim=1)\n",
    "                    zsample = zsample.to(device)\n",
    "                    H1 = d(g(zsample))\n",
    "                    H2 = d(x)\n",
    "\n",
    "                    subplots[11].cla()\n",
    "                    subplots[11].hist(H1.cpu().squeeze(), label='fake', range=(0, 1), alpha=0.5)\n",
    "                    subplots[11].hist(H2.cpu().squeeze(), label='real', range=(0, 1), alpha=0.5)\n",
    "                    subplots[11].legend()\n",
    "                    subplots[11].set_title('Discriminator loss: %.2f' % d_loss.item())\n",
    "\n",
    "                    display.display(plt.gcf())\n",
    "                    display.clear_output(wait=True)\n",
    "        \n",
    "\n",
    "                "
   ]
  },
  {
   "cell_type": "code",
   "execution_count": null,
   "metadata": {},
   "outputs": [],
   "source": []
  }
 ],
 "metadata": {
  "kernelspec": {
   "display_name": "Python 3",
   "language": "python",
   "name": "python3"
  },
  "language_info": {
   "codemirror_mode": {
    "name": "ipython",
    "version": 3
   },
   "file_extension": ".py",
   "mimetype": "text/x-python",
   "name": "python",
   "nbconvert_exporter": "python",
   "pygments_lexer": "ipython3",
   "version": "3.6.5"
  }
 },
 "nbformat": 4,
 "nbformat_minor": 2
}
